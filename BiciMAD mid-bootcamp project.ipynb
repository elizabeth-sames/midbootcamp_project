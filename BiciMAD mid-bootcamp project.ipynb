{
 "cells": [
  {
   "cell_type": "code",
   "execution_count": 151,
   "id": "560c9e11",
   "metadata": {},
   "outputs": [],
   "source": [
    "import pandas as pd\n",
    "import numpy as np\n",
    "from datetime import datetime\n",
    "import seaborn as sns\n",
    "import matplotlib.pyplot as plt\n",
    "import scipy.stats as st\n",
    "import math"
   ]
  },
  {
   "cell_type": "markdown",
   "id": "7cdd7c8a",
   "metadata": {},
   "source": [
    "# Load  and clean bicimad data."
   ]
  },
  {
   "cell_type": "code",
   "execution_count": 37,
   "id": "7c6c35ba",
   "metadata": {},
   "outputs": [],
   "source": [
    "july20 = pd.read_json('202007_movements.json',encoding='latin1', lines=True)"
   ]
  },
  {
   "cell_type": "code",
   "execution_count": 41,
   "id": "276dfd91",
   "metadata": {},
   "outputs": [
    {
     "data": {
      "text/html": [
       "<div>\n",
       "<style scoped>\n",
       "    .dataframe tbody tr th:only-of-type {\n",
       "        vertical-align: middle;\n",
       "    }\n",
       "\n",
       "    .dataframe tbody tr th {\n",
       "        vertical-align: top;\n",
       "    }\n",
       "\n",
       "    .dataframe thead th {\n",
       "        text-align: right;\n",
       "    }\n",
       "</style>\n",
       "<table border=\"1\" class=\"dataframe\">\n",
       "  <thead>\n",
       "    <tr style=\"text-align: right;\">\n",
       "      <th></th>\n",
       "      <th>_id</th>\n",
       "      <th>user_day_code</th>\n",
       "      <th>idplug_base</th>\n",
       "      <th>user_type</th>\n",
       "      <th>idunplug_base</th>\n",
       "      <th>travel_time</th>\n",
       "      <th>idunplug_station</th>\n",
       "      <th>ageRange</th>\n",
       "      <th>idplug_station</th>\n",
       "      <th>unplug_hourTime</th>\n",
       "      <th>zip_code</th>\n",
       "    </tr>\n",
       "  </thead>\n",
       "  <tbody>\n",
       "    <tr>\n",
       "      <th>0</th>\n",
       "      <td>{'$oid': '5f024d791b913148f0c5edbf'}</td>\n",
       "      <td>cafafe19422232e54824992f88e4130ce79e0be3dbc950...</td>\n",
       "      <td>14</td>\n",
       "      <td>1</td>\n",
       "      <td>18</td>\n",
       "      <td>364</td>\n",
       "      <td>169</td>\n",
       "      <td>0</td>\n",
       "      <td>149</td>\n",
       "      <td>2020-07-01T00:00:00Z</td>\n",
       "      <td></td>\n",
       "    </tr>\n",
       "    <tr>\n",
       "      <th>1</th>\n",
       "      <td>{'$oid': '5f024d791b913148f0c5edc2'}</td>\n",
       "      <td>65840c389f151ecd831c3e713702db59f87af359d4aafa...</td>\n",
       "      <td>18</td>\n",
       "      <td>1</td>\n",
       "      <td>18</td>\n",
       "      <td>300</td>\n",
       "      <td>92</td>\n",
       "      <td>0</td>\n",
       "      <td>166</td>\n",
       "      <td>2020-07-01T00:00:00Z</td>\n",
       "      <td></td>\n",
       "    </tr>\n",
       "    <tr>\n",
       "      <th>2</th>\n",
       "      <td>{'$oid': '5f024d791b913148f0c5edc6'}</td>\n",
       "      <td>3970b96213e9f2a02ca7ffb991840c20dff1d531c2bf51...</td>\n",
       "      <td>13</td>\n",
       "      <td>1</td>\n",
       "      <td>19</td>\n",
       "      <td>383</td>\n",
       "      <td>49</td>\n",
       "      <td>0</td>\n",
       "      <td>128</td>\n",
       "      <td>2020-07-01T00:00:00Z</td>\n",
       "      <td></td>\n",
       "    </tr>\n",
       "    <tr>\n",
       "      <th>3</th>\n",
       "      <td>{'$oid': '5f024d791b913148f0c5edc9'}</td>\n",
       "      <td>57835e7ffe00d64403b1ae95b6d66db22f4ced98f0393f...</td>\n",
       "      <td>13</td>\n",
       "      <td>1</td>\n",
       "      <td>24</td>\n",
       "      <td>418</td>\n",
       "      <td>18</td>\n",
       "      <td>0</td>\n",
       "      <td>122</td>\n",
       "      <td>2020-07-01T00:00:00Z</td>\n",
       "      <td></td>\n",
       "    </tr>\n",
       "    <tr>\n",
       "      <th>4</th>\n",
       "      <td>{'$oid': '5f024d791b913148f0c5edca'}</td>\n",
       "      <td>c3c4cdc1eafed3699ad8114011ba7bd25505fc1eafe386...</td>\n",
       "      <td>3</td>\n",
       "      <td>1</td>\n",
       "      <td>16</td>\n",
       "      <td>263</td>\n",
       "      <td>183</td>\n",
       "      <td>5</td>\n",
       "      <td>185</td>\n",
       "      <td>2020-07-01T00:00:00Z</td>\n",
       "      <td>28026</td>\n",
       "    </tr>\n",
       "    <tr>\n",
       "      <th>...</th>\n",
       "      <td>...</td>\n",
       "      <td>...</td>\n",
       "      <td>...</td>\n",
       "      <td>...</td>\n",
       "      <td>...</td>\n",
       "      <td>...</td>\n",
       "      <td>...</td>\n",
       "      <td>...</td>\n",
       "      <td>...</td>\n",
       "      <td>...</td>\n",
       "      <td>...</td>\n",
       "    </tr>\n",
       "    <tr>\n",
       "      <th>431125</th>\n",
       "      <td>{'$oid': '5f2b2bff1b913144288b98bb'}</td>\n",
       "      <td>5cdfb73390bdc90bdb2e5333e30da50f86694a664e555e...</td>\n",
       "      <td>2</td>\n",
       "      <td>1</td>\n",
       "      <td>8</td>\n",
       "      <td>266</td>\n",
       "      <td>44</td>\n",
       "      <td>5</td>\n",
       "      <td>134</td>\n",
       "      <td>2020-07-31T23:00:00Z</td>\n",
       "      <td>28005</td>\n",
       "    </tr>\n",
       "    <tr>\n",
       "      <th>431126</th>\n",
       "      <td>{'$oid': '5f2b2c031b913144288b9b31'}</td>\n",
       "      <td>5794657a9599137a70f41b1fa930a5d540bee677d017e7...</td>\n",
       "      <td>6</td>\n",
       "      <td>1</td>\n",
       "      <td>4</td>\n",
       "      <td>893</td>\n",
       "      <td>132</td>\n",
       "      <td>0</td>\n",
       "      <td>131</td>\n",
       "      <td>2020-07-31T23:00:00Z</td>\n",
       "      <td></td>\n",
       "    </tr>\n",
       "    <tr>\n",
       "      <th>431127</th>\n",
       "      <td>{'$oid': '5f2b2c041b913144288b9b92'}</td>\n",
       "      <td>4296d62ccc043b50a282c0f999ce5ee3274b43f357d494...</td>\n",
       "      <td>8</td>\n",
       "      <td>1</td>\n",
       "      <td>17</td>\n",
       "      <td>1282</td>\n",
       "      <td>175</td>\n",
       "      <td>4</td>\n",
       "      <td>82</td>\n",
       "      <td>2020-07-31T23:00:00Z</td>\n",
       "      <td>10600</td>\n",
       "    </tr>\n",
       "    <tr>\n",
       "      <th>431128</th>\n",
       "      <td>{'$oid': '5f2b2c0b1b913144288ba02c'}</td>\n",
       "      <td>73d00c6edafe946b030bd4362edd73dd1bec80fed6bf7b...</td>\n",
       "      <td>19</td>\n",
       "      <td>1</td>\n",
       "      <td>21</td>\n",
       "      <td>1354</td>\n",
       "      <td>40</td>\n",
       "      <td>5</td>\n",
       "      <td>202</td>\n",
       "      <td>2020-07-31T23:00:00Z</td>\n",
       "      <td>28006</td>\n",
       "    </tr>\n",
       "    <tr>\n",
       "      <th>431129</th>\n",
       "      <td>{'$oid': '5f2b2c311b913144288bb888'}</td>\n",
       "      <td>d7a6aa3bbeb5eb6a8e8b9bba4649947a178e4b568575f7...</td>\n",
       "      <td>12</td>\n",
       "      <td>1</td>\n",
       "      <td>1</td>\n",
       "      <td>605</td>\n",
       "      <td>59</td>\n",
       "      <td>0</td>\n",
       "      <td>53</td>\n",
       "      <td>2020-07-31T23:00:00Z</td>\n",
       "      <td></td>\n",
       "    </tr>\n",
       "  </tbody>\n",
       "</table>\n",
       "<p>431130 rows × 11 columns</p>\n",
       "</div>"
      ],
      "text/plain": [
       "                                         _id  \\\n",
       "0       {'$oid': '5f024d791b913148f0c5edbf'}   \n",
       "1       {'$oid': '5f024d791b913148f0c5edc2'}   \n",
       "2       {'$oid': '5f024d791b913148f0c5edc6'}   \n",
       "3       {'$oid': '5f024d791b913148f0c5edc9'}   \n",
       "4       {'$oid': '5f024d791b913148f0c5edca'}   \n",
       "...                                      ...   \n",
       "431125  {'$oid': '5f2b2bff1b913144288b98bb'}   \n",
       "431126  {'$oid': '5f2b2c031b913144288b9b31'}   \n",
       "431127  {'$oid': '5f2b2c041b913144288b9b92'}   \n",
       "431128  {'$oid': '5f2b2c0b1b913144288ba02c'}   \n",
       "431129  {'$oid': '5f2b2c311b913144288bb888'}   \n",
       "\n",
       "                                            user_day_code  idplug_base  \\\n",
       "0       cafafe19422232e54824992f88e4130ce79e0be3dbc950...           14   \n",
       "1       65840c389f151ecd831c3e713702db59f87af359d4aafa...           18   \n",
       "2       3970b96213e9f2a02ca7ffb991840c20dff1d531c2bf51...           13   \n",
       "3       57835e7ffe00d64403b1ae95b6d66db22f4ced98f0393f...           13   \n",
       "4       c3c4cdc1eafed3699ad8114011ba7bd25505fc1eafe386...            3   \n",
       "...                                                   ...          ...   \n",
       "431125  5cdfb73390bdc90bdb2e5333e30da50f86694a664e555e...            2   \n",
       "431126  5794657a9599137a70f41b1fa930a5d540bee677d017e7...            6   \n",
       "431127  4296d62ccc043b50a282c0f999ce5ee3274b43f357d494...            8   \n",
       "431128  73d00c6edafe946b030bd4362edd73dd1bec80fed6bf7b...           19   \n",
       "431129  d7a6aa3bbeb5eb6a8e8b9bba4649947a178e4b568575f7...           12   \n",
       "\n",
       "        user_type  idunplug_base  travel_time  idunplug_station  ageRange  \\\n",
       "0               1             18          364               169         0   \n",
       "1               1             18          300                92         0   \n",
       "2               1             19          383                49         0   \n",
       "3               1             24          418                18         0   \n",
       "4               1             16          263               183         5   \n",
       "...           ...            ...          ...               ...       ...   \n",
       "431125          1              8          266                44         5   \n",
       "431126          1              4          893               132         0   \n",
       "431127          1             17         1282               175         4   \n",
       "431128          1             21         1354                40         5   \n",
       "431129          1              1          605                59         0   \n",
       "\n",
       "        idplug_station       unplug_hourTime zip_code  \n",
       "0                  149  2020-07-01T00:00:00Z           \n",
       "1                  166  2020-07-01T00:00:00Z           \n",
       "2                  128  2020-07-01T00:00:00Z           \n",
       "3                  122  2020-07-01T00:00:00Z           \n",
       "4                  185  2020-07-01T00:00:00Z    28026  \n",
       "...                ...                   ...      ...  \n",
       "431125             134  2020-07-31T23:00:00Z    28005  \n",
       "431126             131  2020-07-31T23:00:00Z           \n",
       "431127              82  2020-07-31T23:00:00Z    10600  \n",
       "431128             202  2020-07-31T23:00:00Z    28006  \n",
       "431129              53  2020-07-31T23:00:00Z           \n",
       "\n",
       "[431130 rows x 11 columns]"
      ]
     },
     "execution_count": 41,
     "metadata": {},
     "output_type": "execute_result"
    }
   ],
   "source": [
    "july20"
   ]
  },
  {
   "cell_type": "code",
   "execution_count": 43,
   "id": "2bce0e47",
   "metadata": {},
   "outputs": [],
   "source": [
    "def clean_monthly_data(x):\n",
    "    #change datetime column to date, hour, and weekday\n",
    "    x['unplug_hourTime'] = pd.to_datetime(x['unplug_hourTime'])\n",
    "    x['date'] =x['unplug_hourTime'].dt.date\n",
    "    x['hour'] =x['unplug_hourTime'].dt.hour\n",
    "    x['hour'] = pd.Categorical(x['hour'], categories=[0,1,2,3,4,5,6,7,8,9,10,11,12,13,14,15,16,17,18,19,20,21,22,23], ordered=True)\n",
    "    x['weekday'] = x['unplug_hourTime'].dt.weekday\n",
    "    x['weekday'] = pd.Categorical(x['weekday'], categories=[0,1,2,3,4,5,6], ordered=True)\n",
    "    #drop unnecessary columns\n",
    "    x.drop(['_id', 'idplug_base', 'idunplug_base', 'unplug_hourTime'], axis=1, inplace=True) #dropping _id(redundant with index), idplug_base(unnecessary info), idunplug_base(unnecessary info))\n",
    "    #drop rows with station 2008,2009 (repair stations)\n",
    "    x = x[(x.idunplug_station!=2009) | (x.idunplug_station!=2008) | (x.idplug_station!=2009) | (x.idplug_station!=2008)]\n",
    "\n",
    "    return x"
   ]
  },
  {
   "cell_type": "code",
   "execution_count": 44,
   "id": "3013c2a9",
   "metadata": {},
   "outputs": [],
   "source": [
    "july20 = clean_monthly_data(july20)"
   ]
  },
  {
   "cell_type": "code",
   "execution_count": 46,
   "id": "4fc63009",
   "metadata": {},
   "outputs": [],
   "source": [
    "#fix date column\n",
    "def fix_date(x):\n",
    "    return pd.to_datetime(x).date()\n"
   ]
  },
  {
   "cell_type": "code",
   "execution_count": 48,
   "id": "45ef9e45",
   "metadata": {},
   "outputs": [],
   "source": [
    "july20.date = july20.date.apply(fix_date)"
   ]
  },
  {
   "cell_type": "code",
   "execution_count": 49,
   "id": "c2c5223a",
   "metadata": {},
   "outputs": [],
   "source": [
    "def open_clean(f):\n",
    "    df = pd.read_json(f,encoding='latin1', lines=True)\n",
    "    df = clean_monthly_data(df)\n",
    "    df['date'] = df['date'].apply(fix_date)\n",
    "    return df"
   ]
  },
  {
   "cell_type": "code",
   "execution_count": null,
   "id": "a4692f4e",
   "metadata": {},
   "outputs": [],
   "source": []
  },
  {
   "cell_type": "code",
   "execution_count": 50,
   "id": "9a452338",
   "metadata": {},
   "outputs": [],
   "source": [
    "august20 = open_clean('202008_movements.json')"
   ]
  },
  {
   "cell_type": "code",
   "execution_count": 51,
   "id": "52a2d8e5",
   "metadata": {},
   "outputs": [],
   "source": [
    "september20 = open_clean('202009_movements.json')"
   ]
  },
  {
   "cell_type": "code",
   "execution_count": 52,
   "id": "84dce505",
   "metadata": {},
   "outputs": [],
   "source": [
    "october20 = open_clean('202010_movements.json')"
   ]
  },
  {
   "cell_type": "code",
   "execution_count": 53,
   "id": "6e4af2ea",
   "metadata": {},
   "outputs": [],
   "source": [
    "november20 = open_clean('202011_movements.json')"
   ]
  },
  {
   "cell_type": "code",
   "execution_count": 54,
   "id": "38c75695",
   "metadata": {},
   "outputs": [],
   "source": [
    "december20 = open_clean('202012_movements.json')"
   ]
  },
  {
   "cell_type": "code",
   "execution_count": 55,
   "id": "28e18714",
   "metadata": {},
   "outputs": [],
   "source": [
    "january21 = open_clean('202101_movements.json')"
   ]
  },
  {
   "cell_type": "code",
   "execution_count": 56,
   "id": "7d2eb34f",
   "metadata": {},
   "outputs": [],
   "source": [
    "february21 = open_clean('202102_movements.json')"
   ]
  },
  {
   "cell_type": "code",
   "execution_count": 57,
   "id": "d55797c5",
   "metadata": {},
   "outputs": [],
   "source": [
    "march21 = open_clean('202103_movements.json')"
   ]
  },
  {
   "cell_type": "code",
   "execution_count": 58,
   "id": "330b422d",
   "metadata": {},
   "outputs": [],
   "source": [
    "april21 = open_clean('202104_movements.json')"
   ]
  },
  {
   "cell_type": "code",
   "execution_count": 59,
   "id": "81e0f9e6",
   "metadata": {},
   "outputs": [],
   "source": [
    "may21 = open_clean('202105_movements.json')"
   ]
  },
  {
   "cell_type": "code",
   "execution_count": 60,
   "id": "864968d4",
   "metadata": {},
   "outputs": [],
   "source": [
    "june21 = open_clean('202106_movements.json')"
   ]
  },
  {
   "cell_type": "code",
   "execution_count": 61,
   "id": "36e58e7a",
   "metadata": {},
   "outputs": [],
   "source": [
    "#concatenate dataframes into one\n",
    "\n",
    "data = pd.concat([july20, august20, september20, october20, november20, december20, \n",
    "                  january21, february21, march21, april21, may21, june21], axis=0)\n"
   ]
  },
  {
   "cell_type": "code",
   "execution_count": 63,
   "id": "7b762757",
   "metadata": {},
   "outputs": [
    {
     "data": {
      "text/html": [
       "<div>\n",
       "<style scoped>\n",
       "    .dataframe tbody tr th:only-of-type {\n",
       "        vertical-align: middle;\n",
       "    }\n",
       "\n",
       "    .dataframe tbody tr th {\n",
       "        vertical-align: top;\n",
       "    }\n",
       "\n",
       "    .dataframe thead th {\n",
       "        text-align: right;\n",
       "    }\n",
       "</style>\n",
       "<table border=\"1\" class=\"dataframe\">\n",
       "  <thead>\n",
       "    <tr style=\"text-align: right;\">\n",
       "      <th></th>\n",
       "      <th>user_day_code</th>\n",
       "      <th>user_type</th>\n",
       "      <th>travel_time</th>\n",
       "      <th>idunplug_station</th>\n",
       "      <th>ageRange</th>\n",
       "      <th>idplug_station</th>\n",
       "      <th>zip_code</th>\n",
       "      <th>date</th>\n",
       "      <th>hour</th>\n",
       "      <th>weekday</th>\n",
       "    </tr>\n",
       "  </thead>\n",
       "  <tbody>\n",
       "    <tr>\n",
       "      <th>0</th>\n",
       "      <td>cafafe19422232e54824992f88e4130ce79e0be3dbc950...</td>\n",
       "      <td>1</td>\n",
       "      <td>364</td>\n",
       "      <td>169</td>\n",
       "      <td>0</td>\n",
       "      <td>149</td>\n",
       "      <td></td>\n",
       "      <td>2020-07-01</td>\n",
       "      <td>0</td>\n",
       "      <td>2</td>\n",
       "    </tr>\n",
       "    <tr>\n",
       "      <th>1</th>\n",
       "      <td>65840c389f151ecd831c3e713702db59f87af359d4aafa...</td>\n",
       "      <td>1</td>\n",
       "      <td>300</td>\n",
       "      <td>92</td>\n",
       "      <td>0</td>\n",
       "      <td>166</td>\n",
       "      <td></td>\n",
       "      <td>2020-07-01</td>\n",
       "      <td>0</td>\n",
       "      <td>2</td>\n",
       "    </tr>\n",
       "    <tr>\n",
       "      <th>2</th>\n",
       "      <td>3970b96213e9f2a02ca7ffb991840c20dff1d531c2bf51...</td>\n",
       "      <td>1</td>\n",
       "      <td>383</td>\n",
       "      <td>49</td>\n",
       "      <td>0</td>\n",
       "      <td>128</td>\n",
       "      <td></td>\n",
       "      <td>2020-07-01</td>\n",
       "      <td>0</td>\n",
       "      <td>2</td>\n",
       "    </tr>\n",
       "    <tr>\n",
       "      <th>3</th>\n",
       "      <td>57835e7ffe00d64403b1ae95b6d66db22f4ced98f0393f...</td>\n",
       "      <td>1</td>\n",
       "      <td>418</td>\n",
       "      <td>18</td>\n",
       "      <td>0</td>\n",
       "      <td>122</td>\n",
       "      <td></td>\n",
       "      <td>2020-07-01</td>\n",
       "      <td>0</td>\n",
       "      <td>2</td>\n",
       "    </tr>\n",
       "    <tr>\n",
       "      <th>4</th>\n",
       "      <td>c3c4cdc1eafed3699ad8114011ba7bd25505fc1eafe386...</td>\n",
       "      <td>1</td>\n",
       "      <td>263</td>\n",
       "      <td>183</td>\n",
       "      <td>5</td>\n",
       "      <td>185</td>\n",
       "      <td>28026</td>\n",
       "      <td>2020-07-01</td>\n",
       "      <td>0</td>\n",
       "      <td>2</td>\n",
       "    </tr>\n",
       "    <tr>\n",
       "      <th>...</th>\n",
       "      <td>...</td>\n",
       "      <td>...</td>\n",
       "      <td>...</td>\n",
       "      <td>...</td>\n",
       "      <td>...</td>\n",
       "      <td>...</td>\n",
       "      <td>...</td>\n",
       "      <td>...</td>\n",
       "      <td>...</td>\n",
       "      <td>...</td>\n",
       "    </tr>\n",
       "    <tr>\n",
       "      <th>413365</th>\n",
       "      <td>45de608bddfda3f468ef6093c65f6246a2917ce2376e98...</td>\n",
       "      <td>1</td>\n",
       "      <td>746</td>\n",
       "      <td>234</td>\n",
       "      <td>0</td>\n",
       "      <td>84</td>\n",
       "      <td></td>\n",
       "      <td>2021-06-27</td>\n",
       "      <td>19</td>\n",
       "      <td>6</td>\n",
       "    </tr>\n",
       "    <tr>\n",
       "      <th>413366</th>\n",
       "      <td>dbec6f034d41c528fd21412197518fe7d11dd0e863d965...</td>\n",
       "      <td>3</td>\n",
       "      <td>355190</td>\n",
       "      <td>268</td>\n",
       "      <td>0</td>\n",
       "      <td>268</td>\n",
       "      <td></td>\n",
       "      <td>2021-06-28</td>\n",
       "      <td>7</td>\n",
       "      <td>0</td>\n",
       "    </tr>\n",
       "    <tr>\n",
       "      <th>413367</th>\n",
       "      <td>2081c1c1c6c1d9e400b611bcb244b408da53884dffcbbf...</td>\n",
       "      <td>3</td>\n",
       "      <td>603181</td>\n",
       "      <td>253</td>\n",
       "      <td>5</td>\n",
       "      <td>253</td>\n",
       "      <td></td>\n",
       "      <td>2021-06-25</td>\n",
       "      <td>15</td>\n",
       "      <td>4</td>\n",
       "    </tr>\n",
       "    <tr>\n",
       "      <th>413368</th>\n",
       "      <td>dbec6f034d41c528fd21412197518fe7d11dd0e863d965...</td>\n",
       "      <td>3</td>\n",
       "      <td>13</td>\n",
       "      <td>243</td>\n",
       "      <td>0</td>\n",
       "      <td>243</td>\n",
       "      <td></td>\n",
       "      <td>2021-06-30</td>\n",
       "      <td>8</td>\n",
       "      <td>2</td>\n",
       "    </tr>\n",
       "    <tr>\n",
       "      <th>413369</th>\n",
       "      <td>0308fa6e55742306ac8cf3d5b4d1320d6100208d4a60db...</td>\n",
       "      <td>1</td>\n",
       "      <td>664</td>\n",
       "      <td>48</td>\n",
       "      <td>5</td>\n",
       "      <td>59</td>\n",
       "      <td>28007</td>\n",
       "      <td>2021-06-29</td>\n",
       "      <td>13</td>\n",
       "      <td>1</td>\n",
       "    </tr>\n",
       "  </tbody>\n",
       "</table>\n",
       "<p>4053220 rows × 10 columns</p>\n",
       "</div>"
      ],
      "text/plain": [
       "                                            user_day_code  user_type  \\\n",
       "0       cafafe19422232e54824992f88e4130ce79e0be3dbc950...          1   \n",
       "1       65840c389f151ecd831c3e713702db59f87af359d4aafa...          1   \n",
       "2       3970b96213e9f2a02ca7ffb991840c20dff1d531c2bf51...          1   \n",
       "3       57835e7ffe00d64403b1ae95b6d66db22f4ced98f0393f...          1   \n",
       "4       c3c4cdc1eafed3699ad8114011ba7bd25505fc1eafe386...          1   \n",
       "...                                                   ...        ...   \n",
       "413365  45de608bddfda3f468ef6093c65f6246a2917ce2376e98...          1   \n",
       "413366  dbec6f034d41c528fd21412197518fe7d11dd0e863d965...          3   \n",
       "413367  2081c1c1c6c1d9e400b611bcb244b408da53884dffcbbf...          3   \n",
       "413368  dbec6f034d41c528fd21412197518fe7d11dd0e863d965...          3   \n",
       "413369  0308fa6e55742306ac8cf3d5b4d1320d6100208d4a60db...          1   \n",
       "\n",
       "        travel_time  idunplug_station  ageRange  idplug_station zip_code  \\\n",
       "0               364               169         0             149            \n",
       "1               300                92         0             166            \n",
       "2               383                49         0             128            \n",
       "3               418                18         0             122            \n",
       "4               263               183         5             185    28026   \n",
       "...             ...               ...       ...             ...      ...   \n",
       "413365          746               234         0              84            \n",
       "413366       355190               268         0             268            \n",
       "413367       603181               253         5             253            \n",
       "413368           13               243         0             243            \n",
       "413369          664                48         5              59    28007   \n",
       "\n",
       "              date hour weekday  \n",
       "0       2020-07-01    0       2  \n",
       "1       2020-07-01    0       2  \n",
       "2       2020-07-01    0       2  \n",
       "3       2020-07-01    0       2  \n",
       "4       2020-07-01    0       2  \n",
       "...            ...  ...     ...  \n",
       "413365  2021-06-27   19       6  \n",
       "413366  2021-06-28    7       0  \n",
       "413367  2021-06-25   15       4  \n",
       "413368  2021-06-30    8       2  \n",
       "413369  2021-06-29   13       1  \n",
       "\n",
       "[4053220 rows x 10 columns]"
      ]
     },
     "execution_count": 63,
     "metadata": {},
     "output_type": "execute_result"
    }
   ],
   "source": [
    "data"
   ]
  },
  {
   "cell_type": "markdown",
   "id": "7e9e497a",
   "metadata": {},
   "source": [
    "# Exploratory data analysis"
   ]
  },
  {
   "cell_type": "code",
   "execution_count": 64,
   "id": "7a3a94a1",
   "metadata": {},
   "outputs": [
    {
     "data": {
      "text/html": [
       "<div>\n",
       "<style scoped>\n",
       "    .dataframe tbody tr th:only-of-type {\n",
       "        vertical-align: middle;\n",
       "    }\n",
       "\n",
       "    .dataframe tbody tr th {\n",
       "        vertical-align: top;\n",
       "    }\n",
       "\n",
       "    .dataframe thead th {\n",
       "        text-align: right;\n",
       "    }\n",
       "</style>\n",
       "<table border=\"1\" class=\"dataframe\">\n",
       "  <thead>\n",
       "    <tr style=\"text-align: right;\">\n",
       "      <th></th>\n",
       "      <th>user_type</th>\n",
       "      <th>travel_time</th>\n",
       "      <th>idunplug_station</th>\n",
       "      <th>ageRange</th>\n",
       "      <th>idplug_station</th>\n",
       "    </tr>\n",
       "  </thead>\n",
       "  <tbody>\n",
       "    <tr>\n",
       "      <th>count</th>\n",
       "      <td>4.053220e+06</td>\n",
       "      <td>4.053220e+06</td>\n",
       "      <td>4.053220e+06</td>\n",
       "      <td>4.053220e+06</td>\n",
       "      <td>4.053220e+06</td>\n",
       "    </tr>\n",
       "    <tr>\n",
       "      <th>mean</th>\n",
       "      <td>1.112869e+00</td>\n",
       "      <td>1.136393e+03</td>\n",
       "      <td>1.169778e+02</td>\n",
       "      <td>1.863765e+00</td>\n",
       "      <td>1.170302e+02</td>\n",
       "    </tr>\n",
       "    <tr>\n",
       "      <th>std</th>\n",
       "      <td>5.457709e-01</td>\n",
       "      <td>1.582399e+04</td>\n",
       "      <td>7.098056e+01</td>\n",
       "      <td>2.185413e+00</td>\n",
       "      <td>7.060874e+01</td>\n",
       "    </tr>\n",
       "    <tr>\n",
       "      <th>min</th>\n",
       "      <td>1.000000e+00</td>\n",
       "      <td>-3.946600e+04</td>\n",
       "      <td>1.000000e+00</td>\n",
       "      <td>0.000000e+00</td>\n",
       "      <td>1.000000e+00</td>\n",
       "    </tr>\n",
       "    <tr>\n",
       "      <th>25%</th>\n",
       "      <td>1.000000e+00</td>\n",
       "      <td>4.850000e+02</td>\n",
       "      <td>5.500000e+01</td>\n",
       "      <td>0.000000e+00</td>\n",
       "      <td>5.500000e+01</td>\n",
       "    </tr>\n",
       "    <tr>\n",
       "      <th>50%</th>\n",
       "      <td>1.000000e+00</td>\n",
       "      <td>7.400000e+02</td>\n",
       "      <td>1.160000e+02</td>\n",
       "      <td>0.000000e+00</td>\n",
       "      <td>1.170000e+02</td>\n",
       "    </tr>\n",
       "    <tr>\n",
       "      <th>75%</th>\n",
       "      <td>1.000000e+00</td>\n",
       "      <td>1.095000e+03</td>\n",
       "      <td>1.750000e+02</td>\n",
       "      <td>4.000000e+00</td>\n",
       "      <td>1.750000e+02</td>\n",
       "    </tr>\n",
       "    <tr>\n",
       "      <th>max</th>\n",
       "      <td>7.000000e+00</td>\n",
       "      <td>7.852929e+06</td>\n",
       "      <td>2.009000e+03</td>\n",
       "      <td>6.000000e+00</td>\n",
       "      <td>3.000000e+03</td>\n",
       "    </tr>\n",
       "  </tbody>\n",
       "</table>\n",
       "</div>"
      ],
      "text/plain": [
       "          user_type   travel_time  idunplug_station      ageRange  \\\n",
       "count  4.053220e+06  4.053220e+06      4.053220e+06  4.053220e+06   \n",
       "mean   1.112869e+00  1.136393e+03      1.169778e+02  1.863765e+00   \n",
       "std    5.457709e-01  1.582399e+04      7.098056e+01  2.185413e+00   \n",
       "min    1.000000e+00 -3.946600e+04      1.000000e+00  0.000000e+00   \n",
       "25%    1.000000e+00  4.850000e+02      5.500000e+01  0.000000e+00   \n",
       "50%    1.000000e+00  7.400000e+02      1.160000e+02  0.000000e+00   \n",
       "75%    1.000000e+00  1.095000e+03      1.750000e+02  4.000000e+00   \n",
       "max    7.000000e+00  7.852929e+06      2.009000e+03  6.000000e+00   \n",
       "\n",
       "       idplug_station  \n",
       "count    4.053220e+06  \n",
       "mean     1.170302e+02  \n",
       "std      7.060874e+01  \n",
       "min      1.000000e+00  \n",
       "25%      5.500000e+01  \n",
       "50%      1.170000e+02  \n",
       "75%      1.750000e+02  \n",
       "max      3.000000e+03  "
      ]
     },
     "execution_count": 64,
     "metadata": {},
     "output_type": "execute_result"
    }
   ],
   "source": [
    "data.describe()"
   ]
  },
  {
   "cell_type": "code",
   "execution_count": 77,
   "id": "142ecdbc",
   "metadata": {},
   "outputs": [
    {
     "data": {
      "text/plain": [
       "1    0.950329\n",
       "3    0.039425\n",
       "6    0.005937\n",
       "2    0.004303\n",
       "7    0.000005\n",
       "Name: user_type, dtype: float64"
      ]
     },
     "execution_count": 77,
     "metadata": {},
     "output_type": "execute_result"
    }
   ],
   "source": [
    "data.user_type.value_counts()/len(data) #type 1 is unknown"
   ]
  },
  {
   "cell_type": "code",
   "execution_count": 76,
   "id": "1da62b41",
   "metadata": {},
   "outputs": [
    {
     "data": {
      "text/html": [
       "<div>\n",
       "<style scoped>\n",
       "    .dataframe tbody tr th:only-of-type {\n",
       "        vertical-align: middle;\n",
       "    }\n",
       "\n",
       "    .dataframe tbody tr th {\n",
       "        vertical-align: top;\n",
       "    }\n",
       "\n",
       "    .dataframe thead th {\n",
       "        text-align: right;\n",
       "    }\n",
       "</style>\n",
       "<table border=\"1\" class=\"dataframe\">\n",
       "  <thead>\n",
       "    <tr style=\"text-align: right;\">\n",
       "      <th></th>\n",
       "      <th>user_day_code</th>\n",
       "      <th>user_type</th>\n",
       "      <th>travel_time</th>\n",
       "      <th>idunplug_station</th>\n",
       "      <th>ageRange</th>\n",
       "      <th>idplug_station</th>\n",
       "      <th>zip_code</th>\n",
       "      <th>date</th>\n",
       "      <th>hour</th>\n",
       "      <th>weekday</th>\n",
       "    </tr>\n",
       "  </thead>\n",
       "  <tbody>\n",
       "    <tr>\n",
       "      <th>0</th>\n",
       "      <td>cafafe19422232e54824992f88e4130ce79e0be3dbc950...</td>\n",
       "      <td>1</td>\n",
       "      <td>364</td>\n",
       "      <td>169</td>\n",
       "      <td>0</td>\n",
       "      <td>149</td>\n",
       "      <td></td>\n",
       "      <td>2020-07-01</td>\n",
       "      <td>0</td>\n",
       "      <td>2</td>\n",
       "    </tr>\n",
       "    <tr>\n",
       "      <th>1</th>\n",
       "      <td>65840c389f151ecd831c3e713702db59f87af359d4aafa...</td>\n",
       "      <td>1</td>\n",
       "      <td>300</td>\n",
       "      <td>92</td>\n",
       "      <td>0</td>\n",
       "      <td>166</td>\n",
       "      <td></td>\n",
       "      <td>2020-07-01</td>\n",
       "      <td>0</td>\n",
       "      <td>2</td>\n",
       "    </tr>\n",
       "    <tr>\n",
       "      <th>2</th>\n",
       "      <td>3970b96213e9f2a02ca7ffb991840c20dff1d531c2bf51...</td>\n",
       "      <td>1</td>\n",
       "      <td>383</td>\n",
       "      <td>49</td>\n",
       "      <td>0</td>\n",
       "      <td>128</td>\n",
       "      <td></td>\n",
       "      <td>2020-07-01</td>\n",
       "      <td>0</td>\n",
       "      <td>2</td>\n",
       "    </tr>\n",
       "    <tr>\n",
       "      <th>3</th>\n",
       "      <td>57835e7ffe00d64403b1ae95b6d66db22f4ced98f0393f...</td>\n",
       "      <td>1</td>\n",
       "      <td>418</td>\n",
       "      <td>18</td>\n",
       "      <td>0</td>\n",
       "      <td>122</td>\n",
       "      <td></td>\n",
       "      <td>2020-07-01</td>\n",
       "      <td>0</td>\n",
       "      <td>2</td>\n",
       "    </tr>\n",
       "    <tr>\n",
       "      <th>7</th>\n",
       "      <td>2f219de2fd2dd8966edc7e65476ce0d53db02869cb85cf...</td>\n",
       "      <td>1</td>\n",
       "      <td>258</td>\n",
       "      <td>143</td>\n",
       "      <td>0</td>\n",
       "      <td>149</td>\n",
       "      <td></td>\n",
       "      <td>2020-07-01</td>\n",
       "      <td>0</td>\n",
       "      <td>2</td>\n",
       "    </tr>\n",
       "    <tr>\n",
       "      <th>...</th>\n",
       "      <td>...</td>\n",
       "      <td>...</td>\n",
       "      <td>...</td>\n",
       "      <td>...</td>\n",
       "      <td>...</td>\n",
       "      <td>...</td>\n",
       "      <td>...</td>\n",
       "      <td>...</td>\n",
       "      <td>...</td>\n",
       "      <td>...</td>\n",
       "    </tr>\n",
       "    <tr>\n",
       "      <th>413364</th>\n",
       "      <td>88e7bc52acd6bdf8fc09723c0299254ec1bbc2f6b3a22e...</td>\n",
       "      <td>3</td>\n",
       "      <td>212487</td>\n",
       "      <td>231</td>\n",
       "      <td>1</td>\n",
       "      <td>1</td>\n",
       "      <td></td>\n",
       "      <td>2021-06-29</td>\n",
       "      <td>10</td>\n",
       "      <td>1</td>\n",
       "    </tr>\n",
       "    <tr>\n",
       "      <th>413365</th>\n",
       "      <td>45de608bddfda3f468ef6093c65f6246a2917ce2376e98...</td>\n",
       "      <td>1</td>\n",
       "      <td>746</td>\n",
       "      <td>234</td>\n",
       "      <td>0</td>\n",
       "      <td>84</td>\n",
       "      <td></td>\n",
       "      <td>2021-06-27</td>\n",
       "      <td>19</td>\n",
       "      <td>6</td>\n",
       "    </tr>\n",
       "    <tr>\n",
       "      <th>413366</th>\n",
       "      <td>dbec6f034d41c528fd21412197518fe7d11dd0e863d965...</td>\n",
       "      <td>3</td>\n",
       "      <td>355190</td>\n",
       "      <td>268</td>\n",
       "      <td>0</td>\n",
       "      <td>268</td>\n",
       "      <td></td>\n",
       "      <td>2021-06-28</td>\n",
       "      <td>7</td>\n",
       "      <td>0</td>\n",
       "    </tr>\n",
       "    <tr>\n",
       "      <th>413367</th>\n",
       "      <td>2081c1c1c6c1d9e400b611bcb244b408da53884dffcbbf...</td>\n",
       "      <td>3</td>\n",
       "      <td>603181</td>\n",
       "      <td>253</td>\n",
       "      <td>5</td>\n",
       "      <td>253</td>\n",
       "      <td></td>\n",
       "      <td>2021-06-25</td>\n",
       "      <td>15</td>\n",
       "      <td>4</td>\n",
       "    </tr>\n",
       "    <tr>\n",
       "      <th>413368</th>\n",
       "      <td>dbec6f034d41c528fd21412197518fe7d11dd0e863d965...</td>\n",
       "      <td>3</td>\n",
       "      <td>13</td>\n",
       "      <td>243</td>\n",
       "      <td>0</td>\n",
       "      <td>243</td>\n",
       "      <td></td>\n",
       "      <td>2021-06-30</td>\n",
       "      <td>8</td>\n",
       "      <td>2</td>\n",
       "    </tr>\n",
       "  </tbody>\n",
       "</table>\n",
       "<p>2460069 rows × 10 columns</p>\n",
       "</div>"
      ],
      "text/plain": [
       "                                            user_day_code  user_type  \\\n",
       "0       cafafe19422232e54824992f88e4130ce79e0be3dbc950...          1   \n",
       "1       65840c389f151ecd831c3e713702db59f87af359d4aafa...          1   \n",
       "2       3970b96213e9f2a02ca7ffb991840c20dff1d531c2bf51...          1   \n",
       "3       57835e7ffe00d64403b1ae95b6d66db22f4ced98f0393f...          1   \n",
       "7       2f219de2fd2dd8966edc7e65476ce0d53db02869cb85cf...          1   \n",
       "...                                                   ...        ...   \n",
       "413364  88e7bc52acd6bdf8fc09723c0299254ec1bbc2f6b3a22e...          3   \n",
       "413365  45de608bddfda3f468ef6093c65f6246a2917ce2376e98...          1   \n",
       "413366  dbec6f034d41c528fd21412197518fe7d11dd0e863d965...          3   \n",
       "413367  2081c1c1c6c1d9e400b611bcb244b408da53884dffcbbf...          3   \n",
       "413368  dbec6f034d41c528fd21412197518fe7d11dd0e863d965...          3   \n",
       "\n",
       "        travel_time  idunplug_station  ageRange  idplug_station zip_code  \\\n",
       "0               364               169         0             149            \n",
       "1               300                92         0             166            \n",
       "2               383                49         0             128            \n",
       "3               418                18         0             122            \n",
       "7               258               143         0             149            \n",
       "...             ...               ...       ...             ...      ...   \n",
       "413364       212487               231         1               1            \n",
       "413365          746               234         0              84            \n",
       "413366       355190               268         0             268            \n",
       "413367       603181               253         5             253            \n",
       "413368           13               243         0             243            \n",
       "\n",
       "              date hour weekday  \n",
       "0       2020-07-01    0       2  \n",
       "1       2020-07-01    0       2  \n",
       "2       2020-07-01    0       2  \n",
       "3       2020-07-01    0       2  \n",
       "7       2020-07-01    0       2  \n",
       "...            ...  ...     ...  \n",
       "413364  2021-06-29   10       1  \n",
       "413365  2021-06-27   19       6  \n",
       "413366  2021-06-28    7       0  \n",
       "413367  2021-06-25   15       4  \n",
       "413368  2021-06-30    8       2  \n",
       "\n",
       "[2460069 rows x 10 columns]"
      ]
     },
     "execution_count": 76,
     "metadata": {},
     "output_type": "execute_result"
    }
   ],
   "source": [
    "data[data.zip_code == ''] #over half of the data set does not have zip_code info"
   ]
  },
  {
   "cell_type": "code",
   "execution_count": 67,
   "id": "1d4273c3",
   "metadata": {},
   "outputs": [
    {
     "data": {
      "text/plain": [
       "user_day_code       0\n",
       "user_type           0\n",
       "travel_time         0\n",
       "idunplug_station    0\n",
       "ageRange            0\n",
       "idplug_station      0\n",
       "zip_code            0\n",
       "date                0\n",
       "hour                0\n",
       "weekday             0\n",
       "dtype: int64"
      ]
     },
     "execution_count": 67,
     "metadata": {},
     "output_type": "execute_result"
    }
   ],
   "source": [
    "#check NaN values\n",
    "data.isnull().sum()"
   ]
  },
  {
   "cell_type": "markdown",
   "id": "776fd7f2",
   "metadata": {},
   "source": [
    "The user_type column has 95% unknown values and the zip_code column has over half unknown values. Dropping these columns as we have this info for only a small portion of users."
   ]
  },
  {
   "cell_type": "code",
   "execution_count": 78,
   "id": "9dcfd634",
   "metadata": {},
   "outputs": [],
   "source": [
    "data.drop(['user_type', 'zip_code'], axis=1, inplace=True)"
   ]
  },
  {
   "cell_type": "code",
   "execution_count": 79,
   "id": "bfc48ec5",
   "metadata": {},
   "outputs": [
    {
     "data": {
      "text/plain": [
       "<AxesSubplot:xlabel='travel_time'>"
      ]
     },
     "execution_count": 79,
     "metadata": {},
     "output_type": "execute_result"
    },
    {
     "data": {
      "image/png": "[encoded data removed]",
      "text/plain": [
       "<Figure size 432x288 with 1 Axes>"
      ]
     },
     "metadata": {
      "needs_background": "light"
     },
     "output_type": "display_data"
    }
   ],
   "source": [
    "#check for outliers in travel_time column\n",
    "sns.boxplot(x=data[\"travel_time\"])"
   ]
  },
  {
   "cell_type": "markdown",
   "id": "3982bc98",
   "metadata": {},
   "source": [
    "Some trip times are longer than 24 hours, these are extreme outliers and are posibly due to bikes malfunctioning or possibly theft. I am choosing to drop the rows with these extreme travel times. (.02% of total data)\n",
    "\n",
    "There are also some travel times of less than 0, must be an error and dropping those as well. (only 21 rows)\n",
    "\n",
    "I am also dropping all travel times of less than two minutes that have the same unplug and plug station, as those are likely malfunctioning bikes. "
   ]
  },
  {
   "cell_type": "code",
   "execution_count": 80,
   "id": "6feb60b4",
   "metadata": {},
   "outputs": [],
   "source": [
    "data = data[(data.travel_time<86400) & (data.travel_time>0)]\n",
    "\n",
    "data = data[~((data.travel_time<120) & (data.idunplug_station==data.idplug_station))]"
   ]
  },
  {
   "cell_type": "markdown",
   "id": "4cc3829c",
   "metadata": {},
   "source": [
    "## Age as a factor in usage"
   ]
  },
  {
   "cell_type": "code",
   "execution_count": 81,
   "id": "be243782",
   "metadata": {},
   "outputs": [],
   "source": [
    "#dropping all data with 'unknown' age group label\n",
    "age_data_only = data[data.ageRange != 0]"
   ]
  },
  {
   "cell_type": "code",
   "execution_count": 82,
   "id": "411e5e0f",
   "metadata": {},
   "outputs": [
    {
     "data": {
      "text/html": [
       "<div>\n",
       "<style scoped>\n",
       "    .dataframe tbody tr th:only-of-type {\n",
       "        vertical-align: middle;\n",
       "    }\n",
       "\n",
       "    .dataframe tbody tr th {\n",
       "        vertical-align: top;\n",
       "    }\n",
       "\n",
       "    .dataframe thead th {\n",
       "        text-align: right;\n",
       "    }\n",
       "</style>\n",
       "<table border=\"1\" class=\"dataframe\">\n",
       "  <thead>\n",
       "    <tr style=\"text-align: right;\">\n",
       "      <th></th>\n",
       "      <th>user_day_code</th>\n",
       "      <th>travel_time</th>\n",
       "      <th>idunplug_station</th>\n",
       "      <th>ageRange</th>\n",
       "      <th>idplug_station</th>\n",
       "      <th>date</th>\n",
       "      <th>hour</th>\n",
       "      <th>weekday</th>\n",
       "    </tr>\n",
       "  </thead>\n",
       "  <tbody>\n",
       "    <tr>\n",
       "      <th>4</th>\n",
       "      <td>c3c4cdc1eafed3699ad8114011ba7bd25505fc1eafe386...</td>\n",
       "      <td>263</td>\n",
       "      <td>183</td>\n",
       "      <td>5</td>\n",
       "      <td>185</td>\n",
       "      <td>2020-07-01</td>\n",
       "      <td>0</td>\n",
       "      <td>2</td>\n",
       "    </tr>\n",
       "    <tr>\n",
       "      <th>5</th>\n",
       "      <td>2a7ebeeb481c10c0d5d61bf9d9dccdf6ecc3597f3b7b2e...</td>\n",
       "      <td>94</td>\n",
       "      <td>7</td>\n",
       "      <td>5</td>\n",
       "      <td>8</td>\n",
       "      <td>2020-07-01</td>\n",
       "      <td>0</td>\n",
       "      <td>2</td>\n",
       "    </tr>\n",
       "    <tr>\n",
       "      <th>6</th>\n",
       "      <td>8e369a568e180a26394831ed1116d08671c9f2ca340445...</td>\n",
       "      <td>595</td>\n",
       "      <td>123</td>\n",
       "      <td>4</td>\n",
       "      <td>45</td>\n",
       "      <td>2020-07-01</td>\n",
       "      <td>0</td>\n",
       "      <td>2</td>\n",
       "    </tr>\n",
       "    <tr>\n",
       "      <th>9</th>\n",
       "      <td>2a7ebeeb481c10c0d5d61bf9d9dccdf6ecc3597f3b7b2e...</td>\n",
       "      <td>219</td>\n",
       "      <td>8</td>\n",
       "      <td>5</td>\n",
       "      <td>9</td>\n",
       "      <td>2020-07-01</td>\n",
       "      <td>0</td>\n",
       "      <td>2</td>\n",
       "    </tr>\n",
       "    <tr>\n",
       "      <th>25</th>\n",
       "      <td>edf2c8485efd2cd52f13951a5622554e379a873da0b74d...</td>\n",
       "      <td>893</td>\n",
       "      <td>175</td>\n",
       "      <td>1</td>\n",
       "      <td>34</td>\n",
       "      <td>2020-07-01</td>\n",
       "      <td>0</td>\n",
       "      <td>2</td>\n",
       "    </tr>\n",
       "    <tr>\n",
       "      <th>...</th>\n",
       "      <td>...</td>\n",
       "      <td>...</td>\n",
       "      <td>...</td>\n",
       "      <td>...</td>\n",
       "      <td>...</td>\n",
       "      <td>...</td>\n",
       "      <td>...</td>\n",
       "      <td>...</td>\n",
       "    </tr>\n",
       "    <tr>\n",
       "      <th>413356</th>\n",
       "      <td>5087913e7566bbc40b40ac006819fe015eb1e16d1bc760...</td>\n",
       "      <td>500</td>\n",
       "      <td>185</td>\n",
       "      <td>4</td>\n",
       "      <td>134</td>\n",
       "      <td>2021-06-30</td>\n",
       "      <td>11</td>\n",
       "      <td>2</td>\n",
       "    </tr>\n",
       "    <tr>\n",
       "      <th>413359</th>\n",
       "      <td>36d40b49fafe4e7f41919089b609debf52f1ee42f3e752...</td>\n",
       "      <td>841</td>\n",
       "      <td>132</td>\n",
       "      <td>5</td>\n",
       "      <td>265</td>\n",
       "      <td>2021-06-30</td>\n",
       "      <td>23</td>\n",
       "      <td>2</td>\n",
       "    </tr>\n",
       "    <tr>\n",
       "      <th>413360</th>\n",
       "      <td>04ea09adba4c3e5e9e9142362b0fca2187530f31834001...</td>\n",
       "      <td>1480</td>\n",
       "      <td>182</td>\n",
       "      <td>5</td>\n",
       "      <td>265</td>\n",
       "      <td>2021-06-30</td>\n",
       "      <td>21</td>\n",
       "      <td>2</td>\n",
       "    </tr>\n",
       "    <tr>\n",
       "      <th>413361</th>\n",
       "      <td>d26c47762f73fbdca3fefb34830f72f2df1538f9926c73...</td>\n",
       "      <td>762</td>\n",
       "      <td>15</td>\n",
       "      <td>5</td>\n",
       "      <td>265</td>\n",
       "      <td>2021-06-29</td>\n",
       "      <td>18</td>\n",
       "      <td>1</td>\n",
       "    </tr>\n",
       "    <tr>\n",
       "      <th>413369</th>\n",
       "      <td>0308fa6e55742306ac8cf3d5b4d1320d6100208d4a60db...</td>\n",
       "      <td>664</td>\n",
       "      <td>48</td>\n",
       "      <td>5</td>\n",
       "      <td>59</td>\n",
       "      <td>2021-06-29</td>\n",
       "      <td>13</td>\n",
       "      <td>1</td>\n",
       "    </tr>\n",
       "  </tbody>\n",
       "</table>\n",
       "<p>1685512 rows × 8 columns</p>\n",
       "</div>"
      ],
      "text/plain": [
       "                                            user_day_code  travel_time  \\\n",
       "4       c3c4cdc1eafed3699ad8114011ba7bd25505fc1eafe386...          263   \n",
       "5       2a7ebeeb481c10c0d5d61bf9d9dccdf6ecc3597f3b7b2e...           94   \n",
       "6       8e369a568e180a26394831ed1116d08671c9f2ca340445...          595   \n",
       "9       2a7ebeeb481c10c0d5d61bf9d9dccdf6ecc3597f3b7b2e...          219   \n",
       "25      edf2c8485efd2cd52f13951a5622554e379a873da0b74d...          893   \n",
       "...                                                   ...          ...   \n",
       "413356  5087913e7566bbc40b40ac006819fe015eb1e16d1bc760...          500   \n",
       "413359  36d40b49fafe4e7f41919089b609debf52f1ee42f3e752...          841   \n",
       "413360  04ea09adba4c3e5e9e9142362b0fca2187530f31834001...         1480   \n",
       "413361  d26c47762f73fbdca3fefb34830f72f2df1538f9926c73...          762   \n",
       "413369  0308fa6e55742306ac8cf3d5b4d1320d6100208d4a60db...          664   \n",
       "\n",
       "        idunplug_station  ageRange  idplug_station        date hour weekday  \n",
       "4                    183         5             185  2020-07-01    0       2  \n",
       "5                      7         5               8  2020-07-01    0       2  \n",
       "6                    123         4              45  2020-07-01    0       2  \n",
       "9                      8         5               9  2020-07-01    0       2  \n",
       "25                   175         1              34  2020-07-01    0       2  \n",
       "...                  ...       ...             ...         ...  ...     ...  \n",
       "413356               185         4             134  2021-06-30   11       2  \n",
       "413359               132         5             265  2021-06-30   23       2  \n",
       "413360               182         5             265  2021-06-30   21       2  \n",
       "413361                15         5             265  2021-06-29   18       1  \n",
       "413369                48         5              59  2021-06-29   13       1  \n",
       "\n",
       "[1685512 rows x 8 columns]"
      ]
     },
     "execution_count": 82,
     "metadata": {},
     "output_type": "execute_result"
    }
   ],
   "source": [
    "age_data_only"
   ]
  },
  {
   "cell_type": "code",
   "execution_count": 85,
   "id": "3be473e4",
   "metadata": {},
   "outputs": [
    {
     "data": {
      "text/plain": [
       "<seaborn.axisgrid.FacetGrid at 0x10e874c70>"
      ]
     },
     "execution_count": 85,
     "metadata": {},
     "output_type": "execute_result"
    },
    {
     "data": {
      "image/png": "[encoded data removed]",
      "text/plain": [
       "<Figure size 360x360 with 1 Axes>"
      ]
     },
     "metadata": {
      "needs_background": "light"
     },
     "output_type": "display_data"
    }
   ],
   "source": [
    "sns.displot(x=age_data_only.ageRange)"
   ]
  },
  {
   "cell_type": "code",
   "execution_count": 83,
   "id": "a7bf3d0f",
   "metadata": {},
   "outputs": [
    {
     "data": {
      "text/plain": [
       "(38332.0426495468,\n",
       " 0.0,\n",
       " 115,\n",
       " array([[5.78664619e+01, 3.06390723e+01, 1.99355187e+01, 1.86861701e+01,\n",
       "         5.63768540e+01, 2.35550257e+02, 4.88909737e+02, 5.79655689e+02,\n",
       "         4.78680695e+02, 4.39842773e+02, 4.82783123e+02, 5.69624862e+02,\n",
       "         7.43981065e+02, 7.24736291e+02, 6.12721381e+02, 6.19040201e+02,\n",
       "         7.45626841e+02, 8.13037605e+02, 7.34827184e+02, 5.59017412e+02,\n",
       "         4.05780005e+02, 3.26380300e+02, 2.51611593e+02, 1.28688909e+02],\n",
       "        [7.79688273e+01, 4.12828511e+01, 2.68609651e+01, 2.51776024e+01,\n",
       "         7.59617410e+01, 3.17378610e+02, 6.58753232e+02, 7.81023633e+02,\n",
       "         6.44970700e+02, 5.92640781e+02, 6.50498280e+02, 7.67508173e+02,\n",
       "         1.00243438e+03, 9.76504124e+02, 8.25576092e+02, 8.34090022e+02,\n",
       "         1.00465189e+03, 1.09548064e+03, 9.90100515e+02, 7.53215776e+02,\n",
       "         5.46744869e+02, 4.39762314e+02, 3.39019532e+02, 1.73394449e+02],\n",
       "        [8.14937430e+02, 4.31492198e+02, 2.80753304e+02, 2.63158641e+02,\n",
       "         7.93959178e+02, 3.31727074e+03, 6.88535001e+03, 8.16333161e+03,\n",
       "         6.74129371e+03, 6.19433653e+03, 6.79906849e+03, 8.02206676e+03,\n",
       "         1.04775374e+04, 1.02065119e+04, 8.62899806e+03, 8.71798645e+03,\n",
       "         1.05007149e+04, 1.14500655e+04, 1.03486226e+04, 7.87268131e+03,\n",
       "         5.71462819e+03, 4.59643659e+03, 3.54346367e+03, 1.81233490e+03],\n",
       "        [4.61036346e+03, 2.44109031e+03, 1.58831185e+03, 1.48877317e+03,\n",
       "         4.49168273e+03, 1.87668687e+04, 3.89526422e+04, 4.61825956e+04,\n",
       "         3.81376693e+04, 3.50433564e+04, 3.84645198e+04, 4.53834149e+04,\n",
       "         5.92748027e+04, 5.77415243e+04, 4.88170206e+04, 4.93204566e+04,\n",
       "         5.94059258e+04, 6.47767073e+04, 5.85454905e+04, 4.45382932e+04,\n",
       "         3.23294918e+04, 2.60035219e+04, 2.00465150e+04, 1.02529621e+04],\n",
       "        [3.96373261e+03, 2.09871290e+03, 1.36554168e+03, 1.27996389e+03,\n",
       "         3.86169756e+03, 1.61347040e+04, 3.34893028e+04, 3.97052123e+04,\n",
       "         3.27886347e+04, 3.01283176e+04, 3.30696425e+04, 3.90181215e+04,\n",
       "         5.09611597e+04, 4.96429327e+04, 4.19701436e+04, 4.24029697e+04,\n",
       "         5.10738920e+04, 5.56913895e+04, 5.03341378e+04, 3.82915332e+04,\n",
       "         2.77950887e+04, 2.23563735e+04, 1.72348722e+04, 8.81492331e+03],\n",
       "        [1.09131209e+02, 5.77826755e+01, 3.75966869e+01, 3.52405222e+01,\n",
       "         1.06321935e+02, 4.44227682e+02, 9.22042039e+02, 1.09318116e+03,\n",
       "         9.02750940e+02, 8.29505933e+02, 9.10487769e+02, 1.07426388e+03,\n",
       "         1.40308480e+03, 1.36679080e+03, 1.15554023e+03, 1.16745699e+03,\n",
       "         1.40618859e+03, 1.53331954e+03, 1.38582136e+03, 1.05425913e+03,\n",
       "         7.65266460e+02, 6.15525392e+02, 4.74517992e+02, 2.42696299e+02]]))"
      ]
     },
     "execution_count": 83,
     "metadata": {},
     "output_type": "execute_result"
    }
   ],
   "source": [
    "#age vs hour\n",
    "age_hour_ct = pd.crosstab(age_data_only['ageRange'], age_data_only['hour'], margins = False)\n",
    "st.chi2_contingency(age_hour_ct)   #age and hour of use not independent"
   ]
  },
  {
   "cell_type": "code",
   "execution_count": 84,
   "id": "de3e61c5",
   "metadata": {},
   "outputs": [
    {
     "data": {
      "text/plain": [
       "(87381.63374224454,\n",
       " 0.0,\n",
       " 1325,\n",
       " array([[4.21114557e+01, 2.19476907e+01, 4.49765484e+01, ...,\n",
       "         8.99170578e+00, 1.80194505e-02, 2.46265823e-01],\n",
       "        [5.67406527e+01, 2.95721502e+01, 6.06010565e+01, ...,\n",
       "         1.21153555e+01, 2.42792694e-02, 3.31816682e-01],\n",
       "        [5.93058576e+02, 3.09090863e+02, 6.33407876e+02, ...,\n",
       "         1.26630821e+02, 2.53769181e-01, 3.46817881e+00],\n",
       "        [3.35512334e+03, 1.74862654e+03, 3.58339232e+03, ...,\n",
       "         7.16391333e+02, 1.43565397e+00, 1.96206043e+01],\n",
       "        [2.88454737e+03, 1.50337129e+03, 3.08080027e+03, ...,\n",
       "         6.15913195e+02, 1.23429498e+00, 1.68686981e+01],\n",
       "        [7.94186117e+01, 4.13914716e+01, 8.48219319e+01, ...,\n",
       "         1.69575897e+01, 3.39831458e-02, 4.64436326e-01]]))"
      ]
     },
     "execution_count": 84,
     "metadata": {},
     "output_type": "execute_result"
    }
   ],
   "source": [
    "#age vs unplug station\n",
    "age_station_ct = pd.crosstab(age_data_only['ageRange'], age_data_only['idunplug_station'], margins = False)\n",
    "st.chi2_contingency(age_station_ct)   #age and station not independent"
   ]
  },
  {
   "cell_type": "code",
   "execution_count": 86,
   "id": "2fe9a7ee",
   "metadata": {},
   "outputs": [
    {
     "data": {
      "text/plain": [
       "(3941.5079338644787,\n",
       " 0.0,\n",
       " 30,\n",
       " array([[  1446.28314008,   1599.30431347,   1738.23427659,\n",
       "           1628.98234839,   1590.60692537,   1163.83426045,\n",
       "            956.75473565],\n",
       "        [  1948.71081725,   2154.89037337,   2342.08354079,\n",
       "           2194.87833015,   2143.17157932,   1568.14136179,\n",
       "           1289.12399734],\n",
       "        [ 20368.1066044 ,  22523.11449043,  24479.67487683,\n",
       "          22941.07233173,  22400.62856568,  16390.35928015,\n",
       "          13474.04385077],\n",
       "        [115228.93776372, 127420.51130576, 138489.40344062,\n",
       "         129785.03339994, 126727.56898794,  92725.54028212,\n",
       "          76227.0048199 ],\n",
       "        [ 99067.39510072, 109549.02806922, 119065.44236351,\n",
       "         111581.91190095, 108953.27502563,  79720.23272394,\n",
       "          65535.71481603],\n",
       "        [  2727.56657384,   3016.15144775,   3278.16150167,\n",
       "           3072.12168884,   2999.74891606,   2194.89209154,\n",
       "           1804.35778031]]))"
      ]
     },
     "execution_count": 86,
     "metadata": {},
     "output_type": "execute_result"
    }
   ],
   "source": [
    "#age vs weekday\n",
    "age_day_ct = pd.crosstab(age_data_only['ageRange'], age_data_only['weekday'], margins = False)\n",
    "st.chi2_contingency(age_day_ct)   #age and weekday not independent"
   ]
  },
  {
   "cell_type": "code",
   "execution_count": 88,
   "id": "da7cfc10",
   "metadata": {},
   "outputs": [
    {
     "data": {
      "text/plain": [
       "<AxesSubplot:xlabel='ageRange', ylabel='travel_time'>"
      ]
     },
     "execution_count": 88,
     "metadata": {},
     "output_type": "execute_result"
    },
    {
     "data": {
      "image/png": "[encoded data removed]",
      "text/plain": [
       "<Figure size 432x288 with 1 Axes>"
      ]
     },
     "metadata": {
      "needs_background": "light"
     },
     "output_type": "display_data"
    }
   ],
   "source": [
    "#age vs travel time\n",
    "sns.stripplot(x=\"ageRange\", y=\"travel_time\", data=age_data_only)"
   ]
  },
  {
   "cell_type": "markdown",
   "id": "6220673e",
   "metadata": {},
   "source": [
    "## Factors influencing travel time"
   ]
  },
  {
   "cell_type": "code",
   "execution_count": 89,
   "id": "e03e2a89",
   "metadata": {},
   "outputs": [
    {
     "data": {
      "text/plain": [
       "<AxesSubplot:xlabel='hour', ylabel='travel_time'>"
      ]
     },
     "execution_count": 89,
     "metadata": {},
     "output_type": "execute_result"
    },
    {
     "data": {
      "image/png": "[encoded data removed]",
      "text/plain": [
       "<Figure size 432x288 with 1 Axes>"
      ]
     },
     "metadata": {
      "needs_background": "light"
     },
     "output_type": "display_data"
    }
   ],
   "source": [
    "# hour vs travel time\n",
    "sns.stripplot(x=\"hour\", y=\"travel_time\", data=data)"
   ]
  },
  {
   "cell_type": "code",
   "execution_count": 90,
   "id": "7d384a09",
   "metadata": {},
   "outputs": [
    {
     "data": {
      "text/plain": [
       "<AxesSubplot:xlabel='weekday', ylabel='travel_time'>"
      ]
     },
     "execution_count": 90,
     "metadata": {},
     "output_type": "execute_result"
    },
    {
     "data": {
      "image/png": "[encoded data removed]",
      "text/plain": [
       "<Figure size 432x288 with 1 Axes>"
      ]
     },
     "metadata": {
      "needs_background": "light"
     },
     "output_type": "display_data"
    }
   ],
   "source": [
    "#weekday vs travel time\n",
    "sns.stripplot(x=\"weekday\", y=\"travel_time\", data=data)"
   ]
  },
  {
   "cell_type": "code",
   "execution_count": 99,
   "id": "0f5613e2",
   "metadata": {},
   "outputs": [
    {
     "data": {
      "text/plain": [
       "<AxesSubplot:xlabel='idunplug_station', ylabel='travel_time'>"
      ]
     },
     "execution_count": 99,
     "metadata": {},
     "output_type": "execute_result"
    },
    {
     "data": {
      "image/png": "[encoded data removed]",
      "text/plain": [
       "<Figure size 432x288 with 1 Axes>"
      ]
     },
     "metadata": {
      "needs_background": "light"
     },
     "output_type": "display_data"
    }
   ],
   "source": [
    "#station vs travel time\n",
    "sns.stripplot(x=\"idunplug_station\", y=\"travel_time\", data=data)"
   ]
  },
  {
   "cell_type": "markdown",
   "id": "ee8d8336",
   "metadata": {},
   "source": [
    "Since not much demographic info is available about the riders, I will add weather data to the dataset, which includes the recoreded high and low temperatures in Madrid for each date and whether it rained/snowed or not. "
   ]
  },
  {
   "cell_type": "code",
   "execution_count": 91,
   "id": "1eeae8a9",
   "metadata": {},
   "outputs": [],
   "source": [
    "weather = pd.read_excel('weather.xlsx')"
   ]
  },
  {
   "cell_type": "code",
   "execution_count": 92,
   "id": "61232172",
   "metadata": {},
   "outputs": [
    {
     "data": {
      "text/html": [
       "<div>\n",
       "<style scoped>\n",
       "    .dataframe tbody tr th:only-of-type {\n",
       "        vertical-align: middle;\n",
       "    }\n",
       "\n",
       "    .dataframe tbody tr th {\n",
       "        vertical-align: top;\n",
       "    }\n",
       "\n",
       "    .dataframe thead th {\n",
       "        text-align: right;\n",
       "    }\n",
       "</style>\n",
       "<table border=\"1\" class=\"dataframe\">\n",
       "  <thead>\n",
       "    <tr style=\"text-align: right;\">\n",
       "      <th></th>\n",
       "      <th>high_temp</th>\n",
       "      <th>low_temp</th>\n",
       "      <th>rain</th>\n",
       "    </tr>\n",
       "    <tr>\n",
       "      <th>date</th>\n",
       "      <th></th>\n",
       "      <th></th>\n",
       "      <th></th>\n",
       "    </tr>\n",
       "  </thead>\n",
       "  <tbody>\n",
       "    <tr>\n",
       "      <th>2020-07-01</th>\n",
       "      <td>36.2</td>\n",
       "      <td>19.7</td>\n",
       "      <td>0</td>\n",
       "    </tr>\n",
       "    <tr>\n",
       "      <th>2020-07-02</th>\n",
       "      <td>34.0</td>\n",
       "      <td>17.8</td>\n",
       "      <td>0</td>\n",
       "    </tr>\n",
       "    <tr>\n",
       "      <th>2020-07-03</th>\n",
       "      <td>32.8</td>\n",
       "      <td>16.3</td>\n",
       "      <td>0</td>\n",
       "    </tr>\n",
       "    <tr>\n",
       "      <th>2020-07-04</th>\n",
       "      <td>35.5</td>\n",
       "      <td>16.2</td>\n",
       "      <td>0</td>\n",
       "    </tr>\n",
       "    <tr>\n",
       "      <th>2020-07-05</th>\n",
       "      <td>37.5</td>\n",
       "      <td>17.9</td>\n",
       "      <td>0</td>\n",
       "    </tr>\n",
       "    <tr>\n",
       "      <th>...</th>\n",
       "      <td>...</td>\n",
       "      <td>...</td>\n",
       "      <td>...</td>\n",
       "    </tr>\n",
       "    <tr>\n",
       "      <th>2021-06-26</th>\n",
       "      <td>35.0</td>\n",
       "      <td>16.1</td>\n",
       "      <td>0</td>\n",
       "    </tr>\n",
       "    <tr>\n",
       "      <th>2021-06-27</th>\n",
       "      <td>31.0</td>\n",
       "      <td>19.3</td>\n",
       "      <td>0</td>\n",
       "    </tr>\n",
       "    <tr>\n",
       "      <th>2021-06-28</th>\n",
       "      <td>29.0</td>\n",
       "      <td>12.8</td>\n",
       "      <td>0</td>\n",
       "    </tr>\n",
       "    <tr>\n",
       "      <th>2021-06-29</th>\n",
       "      <td>31.0</td>\n",
       "      <td>13.0</td>\n",
       "      <td>0</td>\n",
       "    </tr>\n",
       "    <tr>\n",
       "      <th>2021-06-30</th>\n",
       "      <td>34.0</td>\n",
       "      <td>15.3</td>\n",
       "      <td>0</td>\n",
       "    </tr>\n",
       "  </tbody>\n",
       "</table>\n",
       "<p>365 rows × 3 columns</p>\n",
       "</div>"
      ],
      "text/plain": [
       "            high_temp  low_temp  rain\n",
       "date                                 \n",
       "2020-07-01       36.2      19.7     0\n",
       "2020-07-02       34.0      17.8     0\n",
       "2020-07-03       32.8      16.3     0\n",
       "2020-07-04       35.5      16.2     0\n",
       "2020-07-05       37.5      17.9     0\n",
       "...               ...       ...   ...\n",
       "2021-06-26       35.0      16.1     0\n",
       "2021-06-27       31.0      19.3     0\n",
       "2021-06-28       29.0      12.8     0\n",
       "2021-06-29       31.0      13.0     0\n",
       "2021-06-30       34.0      15.3     0\n",
       "\n",
       "[365 rows x 3 columns]"
      ]
     },
     "execution_count": 92,
     "metadata": {},
     "output_type": "execute_result"
    }
   ],
   "source": [
    "weather.set_index('date')"
   ]
  },
  {
   "cell_type": "code",
   "execution_count": 93,
   "id": "71bac160",
   "metadata": {},
   "outputs": [
    {
     "data": {
      "text/plain": [
       "date         datetime64[ns]\n",
       "high_temp           float64\n",
       "low_temp            float64\n",
       "rain                  int64\n",
       "dtype: object"
      ]
     },
     "execution_count": 93,
     "metadata": {},
     "output_type": "execute_result"
    }
   ],
   "source": [
    "weather.dtypes"
   ]
  },
  {
   "cell_type": "code",
   "execution_count": 94,
   "id": "db636b08",
   "metadata": {},
   "outputs": [],
   "source": [
    "weather.date = weather.date.apply(fix_date)"
   ]
  },
  {
   "cell_type": "code",
   "execution_count": 95,
   "id": "558779f9",
   "metadata": {},
   "outputs": [],
   "source": [
    "data = pd.merge(data, weather, how=\"left\", on='date', sort=False)"
   ]
  },
  {
   "cell_type": "code",
   "execution_count": 96,
   "id": "110d7e38",
   "metadata": {},
   "outputs": [
    {
     "data": {
      "text/html": [
       "<div>\n",
       "<style scoped>\n",
       "    .dataframe tbody tr th:only-of-type {\n",
       "        vertical-align: middle;\n",
       "    }\n",
       "\n",
       "    .dataframe tbody tr th {\n",
       "        vertical-align: top;\n",
       "    }\n",
       "\n",
       "    .dataframe thead th {\n",
       "        text-align: right;\n",
       "    }\n",
       "</style>\n",
       "<table border=\"1\" class=\"dataframe\">\n",
       "  <thead>\n",
       "    <tr style=\"text-align: right;\">\n",
       "      <th></th>\n",
       "      <th>user_day_code</th>\n",
       "      <th>travel_time</th>\n",
       "      <th>idunplug_station</th>\n",
       "      <th>ageRange</th>\n",
       "      <th>idplug_station</th>\n",
       "      <th>date</th>\n",
       "      <th>hour</th>\n",
       "      <th>weekday</th>\n",
       "      <th>high_temp</th>\n",
       "      <th>low_temp</th>\n",
       "      <th>rain</th>\n",
       "    </tr>\n",
       "  </thead>\n",
       "  <tbody>\n",
       "    <tr>\n",
       "      <th>0</th>\n",
       "      <td>cafafe19422232e54824992f88e4130ce79e0be3dbc950...</td>\n",
       "      <td>364</td>\n",
       "      <td>169</td>\n",
       "      <td>0</td>\n",
       "      <td>149</td>\n",
       "      <td>2020-07-01</td>\n",
       "      <td>0</td>\n",
       "      <td>2</td>\n",
       "      <td>36.2</td>\n",
       "      <td>19.7</td>\n",
       "      <td>0</td>\n",
       "    </tr>\n",
       "    <tr>\n",
       "      <th>1</th>\n",
       "      <td>65840c389f151ecd831c3e713702db59f87af359d4aafa...</td>\n",
       "      <td>300</td>\n",
       "      <td>92</td>\n",
       "      <td>0</td>\n",
       "      <td>166</td>\n",
       "      <td>2020-07-01</td>\n",
       "      <td>0</td>\n",
       "      <td>2</td>\n",
       "      <td>36.2</td>\n",
       "      <td>19.7</td>\n",
       "      <td>0</td>\n",
       "    </tr>\n",
       "    <tr>\n",
       "      <th>2</th>\n",
       "      <td>3970b96213e9f2a02ca7ffb991840c20dff1d531c2bf51...</td>\n",
       "      <td>383</td>\n",
       "      <td>49</td>\n",
       "      <td>0</td>\n",
       "      <td>128</td>\n",
       "      <td>2020-07-01</td>\n",
       "      <td>0</td>\n",
       "      <td>2</td>\n",
       "      <td>36.2</td>\n",
       "      <td>19.7</td>\n",
       "      <td>0</td>\n",
       "    </tr>\n",
       "    <tr>\n",
       "      <th>3</th>\n",
       "      <td>57835e7ffe00d64403b1ae95b6d66db22f4ced98f0393f...</td>\n",
       "      <td>418</td>\n",
       "      <td>18</td>\n",
       "      <td>0</td>\n",
       "      <td>122</td>\n",
       "      <td>2020-07-01</td>\n",
       "      <td>0</td>\n",
       "      <td>2</td>\n",
       "      <td>36.2</td>\n",
       "      <td>19.7</td>\n",
       "      <td>0</td>\n",
       "    </tr>\n",
       "    <tr>\n",
       "      <th>4</th>\n",
       "      <td>c3c4cdc1eafed3699ad8114011ba7bd25505fc1eafe386...</td>\n",
       "      <td>263</td>\n",
       "      <td>183</td>\n",
       "      <td>5</td>\n",
       "      <td>185</td>\n",
       "      <td>2020-07-01</td>\n",
       "      <td>0</td>\n",
       "      <td>2</td>\n",
       "      <td>36.2</td>\n",
       "      <td>19.7</td>\n",
       "      <td>0</td>\n",
       "    </tr>\n",
       "    <tr>\n",
       "      <th>...</th>\n",
       "      <td>...</td>\n",
       "      <td>...</td>\n",
       "      <td>...</td>\n",
       "      <td>...</td>\n",
       "      <td>...</td>\n",
       "      <td>...</td>\n",
       "      <td>...</td>\n",
       "      <td>...</td>\n",
       "      <td>...</td>\n",
       "      <td>...</td>\n",
       "      <td>...</td>\n",
       "    </tr>\n",
       "    <tr>\n",
       "      <th>3949476</th>\n",
       "      <td>36d40b49fafe4e7f41919089b609debf52f1ee42f3e752...</td>\n",
       "      <td>841</td>\n",
       "      <td>132</td>\n",
       "      <td>5</td>\n",
       "      <td>265</td>\n",
       "      <td>2021-06-30</td>\n",
       "      <td>23</td>\n",
       "      <td>2</td>\n",
       "      <td>34.0</td>\n",
       "      <td>15.3</td>\n",
       "      <td>0</td>\n",
       "    </tr>\n",
       "    <tr>\n",
       "      <th>3949477</th>\n",
       "      <td>04ea09adba4c3e5e9e9142362b0fca2187530f31834001...</td>\n",
       "      <td>1480</td>\n",
       "      <td>182</td>\n",
       "      <td>5</td>\n",
       "      <td>265</td>\n",
       "      <td>2021-06-30</td>\n",
       "      <td>21</td>\n",
       "      <td>2</td>\n",
       "      <td>34.0</td>\n",
       "      <td>15.3</td>\n",
       "      <td>0</td>\n",
       "    </tr>\n",
       "    <tr>\n",
       "      <th>3949478</th>\n",
       "      <td>d26c47762f73fbdca3fefb34830f72f2df1538f9926c73...</td>\n",
       "      <td>762</td>\n",
       "      <td>15</td>\n",
       "      <td>5</td>\n",
       "      <td>265</td>\n",
       "      <td>2021-06-29</td>\n",
       "      <td>18</td>\n",
       "      <td>1</td>\n",
       "      <td>31.0</td>\n",
       "      <td>13.0</td>\n",
       "      <td>0</td>\n",
       "    </tr>\n",
       "    <tr>\n",
       "      <th>3949479</th>\n",
       "      <td>45de608bddfda3f468ef6093c65f6246a2917ce2376e98...</td>\n",
       "      <td>746</td>\n",
       "      <td>234</td>\n",
       "      <td>0</td>\n",
       "      <td>84</td>\n",
       "      <td>2021-06-27</td>\n",
       "      <td>19</td>\n",
       "      <td>6</td>\n",
       "      <td>31.0</td>\n",
       "      <td>19.3</td>\n",
       "      <td>0</td>\n",
       "    </tr>\n",
       "    <tr>\n",
       "      <th>3949480</th>\n",
       "      <td>0308fa6e55742306ac8cf3d5b4d1320d6100208d4a60db...</td>\n",
       "      <td>664</td>\n",
       "      <td>48</td>\n",
       "      <td>5</td>\n",
       "      <td>59</td>\n",
       "      <td>2021-06-29</td>\n",
       "      <td>13</td>\n",
       "      <td>1</td>\n",
       "      <td>31.0</td>\n",
       "      <td>13.0</td>\n",
       "      <td>0</td>\n",
       "    </tr>\n",
       "  </tbody>\n",
       "</table>\n",
       "<p>3949481 rows × 11 columns</p>\n",
       "</div>"
      ],
      "text/plain": [
       "                                             user_day_code  travel_time  \\\n",
       "0        cafafe19422232e54824992f88e4130ce79e0be3dbc950...          364   \n",
       "1        65840c389f151ecd831c3e713702db59f87af359d4aafa...          300   \n",
       "2        3970b96213e9f2a02ca7ffb991840c20dff1d531c2bf51...          383   \n",
       "3        57835e7ffe00d64403b1ae95b6d66db22f4ced98f0393f...          418   \n",
       "4        c3c4cdc1eafed3699ad8114011ba7bd25505fc1eafe386...          263   \n",
       "...                                                    ...          ...   \n",
       "3949476  36d40b49fafe4e7f41919089b609debf52f1ee42f3e752...          841   \n",
       "3949477  04ea09adba4c3e5e9e9142362b0fca2187530f31834001...         1480   \n",
       "3949478  d26c47762f73fbdca3fefb34830f72f2df1538f9926c73...          762   \n",
       "3949479  45de608bddfda3f468ef6093c65f6246a2917ce2376e98...          746   \n",
       "3949480  0308fa6e55742306ac8cf3d5b4d1320d6100208d4a60db...          664   \n",
       "\n",
       "         idunplug_station  ageRange  idplug_station        date hour weekday  \\\n",
       "0                     169         0             149  2020-07-01    0       2   \n",
       "1                      92         0             166  2020-07-01    0       2   \n",
       "2                      49         0             128  2020-07-01    0       2   \n",
       "3                      18         0             122  2020-07-01    0       2   \n",
       "4                     183         5             185  2020-07-01    0       2   \n",
       "...                   ...       ...             ...         ...  ...     ...   \n",
       "3949476               132         5             265  2021-06-30   23       2   \n",
       "3949477               182         5             265  2021-06-30   21       2   \n",
       "3949478                15         5             265  2021-06-29   18       1   \n",
       "3949479               234         0              84  2021-06-27   19       6   \n",
       "3949480                48         5              59  2021-06-29   13       1   \n",
       "\n",
       "         high_temp  low_temp  rain  \n",
       "0             36.2      19.7     0  \n",
       "1             36.2      19.7     0  \n",
       "2             36.2      19.7     0  \n",
       "3             36.2      19.7     0  \n",
       "4             36.2      19.7     0  \n",
       "...            ...       ...   ...  \n",
       "3949476       34.0      15.3     0  \n",
       "3949477       34.0      15.3     0  \n",
       "3949478       31.0      13.0     0  \n",
       "3949479       31.0      19.3     0  \n",
       "3949480       31.0      13.0     0  \n",
       "\n",
       "[3949481 rows x 11 columns]"
      ]
     },
     "execution_count": 96,
     "metadata": {},
     "output_type": "execute_result"
    }
   ],
   "source": [
    "data"
   ]
  },
  {
   "cell_type": "code",
   "execution_count": 97,
   "id": "1df2b4e3",
   "metadata": {},
   "outputs": [
    {
     "data": {
      "text/plain": [
       "<AxesSubplot:xlabel='rain', ylabel='travel_time'>"
      ]
     },
     "execution_count": 97,
     "metadata": {},
     "output_type": "execute_result"
    },
    {
     "data": {
      "image/png": "[encoded data removed]",
      "text/plain": [
       "<Figure size 432x288 with 1 Axes>"
      ]
     },
     "metadata": {
      "needs_background": "light"
     },
     "output_type": "display_data"
    }
   ],
   "source": [
    "#rain vs travel time\n",
    "sns.stripplot(x=\"rain\", y=\"travel_time\", data=data)"
   ]
  },
  {
   "cell_type": "code",
   "execution_count": 98,
   "id": "17c60ccd",
   "metadata": {},
   "outputs": [
    {
     "data": {
      "text/plain": [
       "<function matplotlib.pyplot.show(close=None, block=None)>"
      ]
     },
     "execution_count": 98,
     "metadata": {},
     "output_type": "execute_result"
    },
    {
     "data": {
      "image/png": "[encoded data removed]",
      "text/plain": [
       "<Figure size 432x288 with 1 Axes>"
      ]
     },
     "metadata": {
      "needs_background": "light"
     },
     "output_type": "display_data"
    }
   ],
   "source": [
    "#high temp vs travel time\n",
    "sns.scatterplot(data=data, x=\"high_temp\", y=\"travel_time\")\n",
    "plt.show   #positive correlation between high temp and travel time"
   ]
  },
  {
   "cell_type": "code",
   "execution_count": 100,
   "id": "968b55d0",
   "metadata": {},
   "outputs": [
    {
     "data": {
      "text/plain": [
       "<function matplotlib.pyplot.show(close=None, block=None)>"
      ]
     },
     "execution_count": 100,
     "metadata": {},
     "output_type": "execute_result"
    },
    {
     "data": {
      "image/png": "[encoded data removed]",
      "text/plain": [
       "<Figure size 432x288 with 1 Axes>"
      ]
     },
     "metadata": {
      "needs_background": "light"
     },
     "output_type": "display_data"
    }
   ],
   "source": [
    "#low temp vs travel time\n",
    "sns.scatterplot(data=data, x=\"low_temp\", y=\"travel_time\")\n",
    "plt.show   #maybe positive correlation?"
   ]
  },
  {
   "cell_type": "code",
   "execution_count": 102,
   "id": "5f0e45d1",
   "metadata": {},
   "outputs": [
    {
     "data": {
      "text/html": [
       "<div>\n",
       "<style scoped>\n",
       "    .dataframe tbody tr th:only-of-type {\n",
       "        vertical-align: middle;\n",
       "    }\n",
       "\n",
       "    .dataframe tbody tr th {\n",
       "        vertical-align: top;\n",
       "    }\n",
       "\n",
       "    .dataframe thead th {\n",
       "        text-align: right;\n",
       "    }\n",
       "</style>\n",
       "<table border=\"1\" class=\"dataframe\">\n",
       "  <thead>\n",
       "    <tr style=\"text-align: right;\">\n",
       "      <th></th>\n",
       "      <th>travel_time</th>\n",
       "      <th>idunplug_station</th>\n",
       "      <th>ageRange</th>\n",
       "      <th>idplug_station</th>\n",
       "      <th>high_temp</th>\n",
       "      <th>low_temp</th>\n",
       "      <th>rain</th>\n",
       "    </tr>\n",
       "  </thead>\n",
       "  <tbody>\n",
       "    <tr>\n",
       "      <th>travel_time</th>\n",
       "      <td>1.000000</td>\n",
       "      <td>0.045572</td>\n",
       "      <td>-0.024670</td>\n",
       "      <td>0.052047</td>\n",
       "      <td>-0.001041</td>\n",
       "      <td>-0.005755</td>\n",
       "      <td>-0.007469</td>\n",
       "    </tr>\n",
       "    <tr>\n",
       "      <th>idunplug_station</th>\n",
       "      <td>0.045572</td>\n",
       "      <td>1.000000</td>\n",
       "      <td>-0.051822</td>\n",
       "      <td>0.088045</td>\n",
       "      <td>-0.018293</td>\n",
       "      <td>-0.024642</td>\n",
       "      <td>0.009326</td>\n",
       "    </tr>\n",
       "    <tr>\n",
       "      <th>ageRange</th>\n",
       "      <td>-0.024670</td>\n",
       "      <td>-0.051822</td>\n",
       "      <td>1.000000</td>\n",
       "      <td>-0.052949</td>\n",
       "      <td>-0.016495</td>\n",
       "      <td>-0.016486</td>\n",
       "      <td>0.006958</td>\n",
       "    </tr>\n",
       "    <tr>\n",
       "      <th>idplug_station</th>\n",
       "      <td>0.052047</td>\n",
       "      <td>0.088045</td>\n",
       "      <td>-0.052949</td>\n",
       "      <td>1.000000</td>\n",
       "      <td>-0.019233</td>\n",
       "      <td>-0.025052</td>\n",
       "      <td>0.009160</td>\n",
       "    </tr>\n",
       "    <tr>\n",
       "      <th>high_temp</th>\n",
       "      <td>-0.001041</td>\n",
       "      <td>-0.018293</td>\n",
       "      <td>-0.016495</td>\n",
       "      <td>-0.019233</td>\n",
       "      <td>1.000000</td>\n",
       "      <td>0.873545</td>\n",
       "      <td>-0.193684</td>\n",
       "    </tr>\n",
       "    <tr>\n",
       "      <th>low_temp</th>\n",
       "      <td>-0.005755</td>\n",
       "      <td>-0.024642</td>\n",
       "      <td>-0.016486</td>\n",
       "      <td>-0.025052</td>\n",
       "      <td>0.873545</td>\n",
       "      <td>1.000000</td>\n",
       "      <td>0.038941</td>\n",
       "    </tr>\n",
       "    <tr>\n",
       "      <th>rain</th>\n",
       "      <td>-0.007469</td>\n",
       "      <td>0.009326</td>\n",
       "      <td>0.006958</td>\n",
       "      <td>0.009160</td>\n",
       "      <td>-0.193684</td>\n",
       "      <td>0.038941</td>\n",
       "      <td>1.000000</td>\n",
       "    </tr>\n",
       "  </tbody>\n",
       "</table>\n",
       "</div>"
      ],
      "text/plain": [
       "                  travel_time  idunplug_station  ageRange  idplug_station  \\\n",
       "travel_time          1.000000          0.045572 -0.024670        0.052047   \n",
       "idunplug_station     0.045572          1.000000 -0.051822        0.088045   \n",
       "ageRange            -0.024670         -0.051822  1.000000       -0.052949   \n",
       "idplug_station       0.052047          0.088045 -0.052949        1.000000   \n",
       "high_temp           -0.001041         -0.018293 -0.016495       -0.019233   \n",
       "low_temp            -0.005755         -0.024642 -0.016486       -0.025052   \n",
       "rain                -0.007469          0.009326  0.006958        0.009160   \n",
       "\n",
       "                  high_temp  low_temp      rain  \n",
       "travel_time       -0.001041 -0.005755 -0.007469  \n",
       "idunplug_station  -0.018293 -0.024642  0.009326  \n",
       "ageRange          -0.016495 -0.016486  0.006958  \n",
       "idplug_station    -0.019233 -0.025052  0.009160  \n",
       "high_temp          1.000000  0.873545 -0.193684  \n",
       "low_temp           0.873545  1.000000  0.038941  \n",
       "rain              -0.193684  0.038941  1.000000  "
      ]
     },
     "execution_count": 102,
     "metadata": {},
     "output_type": "execute_result"
    }
   ],
   "source": [
    "data.corr()"
   ]
  },
  {
   "cell_type": "code",
   "execution_count": 103,
   "id": "33ede5ed",
   "metadata": {},
   "outputs": [],
   "source": [
    "#high_temp and low_temp are highly correllated. I will drop low_temp\n",
    "data.drop(['low_temp'], axis=1, inplace=True)"
   ]
  },
  {
   "cell_type": "markdown",
   "id": "e972e20f",
   "metadata": {},
   "source": [
    "I am most interested in the factors affecting the number of users. Building a model to predict how many users will access the service per day, hour, and station would be useful in understanding user interaction with the bikeshare service. It could also give insight into particular stations that are being over- or underutilized. \n",
    "\n",
    "I will build the model to predict # of users using only the info that would be availbe in real time, such as day of the week, hour, and station. "
   ]
  },
  {
   "cell_type": "code",
   "execution_count": 107,
   "id": "a933dc1e",
   "metadata": {},
   "outputs": [],
   "source": [
    "#making a data set with info grouped by station\n",
    "station_data = data.drop(['idplug_station', 'travel_time', 'ageRange'], axis=1)\n",
    "station_data['station_users']=station_data.groupby(['date','hour', 'idunplug_station']).user_day_code.transform('count')\n",
    "station_data.drop(['user_day_code'], axis=1, inplace=True)\n",
    "station_data = station_data.drop_duplicates()\n",
    "station_data.reset_index(drop=True, inplace=True)\n",
    "station_data = station_data[['date', 'weekday', 'high_temp', 'rain', 'hour', 'idunplug_station', 'station_users']]"
   ]
  },
  {
   "cell_type": "code",
   "execution_count": 108,
   "id": "d4b174fe",
   "metadata": {},
   "outputs": [
    {
     "data": {
      "text/html": [
       "<div>\n",
       "<style scoped>\n",
       "    .dataframe tbody tr th:only-of-type {\n",
       "        vertical-align: middle;\n",
       "    }\n",
       "\n",
       "    .dataframe tbody tr th {\n",
       "        vertical-align: top;\n",
       "    }\n",
       "\n",
       "    .dataframe thead th {\n",
       "        text-align: right;\n",
       "    }\n",
       "</style>\n",
       "<table border=\"1\" class=\"dataframe\">\n",
       "  <thead>\n",
       "    <tr style=\"text-align: right;\">\n",
       "      <th></th>\n",
       "      <th>date</th>\n",
       "      <th>weekday</th>\n",
       "      <th>high_temp</th>\n",
       "      <th>rain</th>\n",
       "      <th>hour</th>\n",
       "      <th>idunplug_station</th>\n",
       "      <th>station_users</th>\n",
       "    </tr>\n",
       "  </thead>\n",
       "  <tbody>\n",
       "    <tr>\n",
       "      <th>0</th>\n",
       "      <td>2020-07-01</td>\n",
       "      <td>2</td>\n",
       "      <td>36.2</td>\n",
       "      <td>0</td>\n",
       "      <td>0</td>\n",
       "      <td>169</td>\n",
       "      <td>2</td>\n",
       "    </tr>\n",
       "    <tr>\n",
       "      <th>1</th>\n",
       "      <td>2020-07-01</td>\n",
       "      <td>2</td>\n",
       "      <td>36.2</td>\n",
       "      <td>0</td>\n",
       "      <td>0</td>\n",
       "      <td>92</td>\n",
       "      <td>1</td>\n",
       "    </tr>\n",
       "    <tr>\n",
       "      <th>2</th>\n",
       "      <td>2020-07-01</td>\n",
       "      <td>2</td>\n",
       "      <td>36.2</td>\n",
       "      <td>0</td>\n",
       "      <td>0</td>\n",
       "      <td>49</td>\n",
       "      <td>2</td>\n",
       "    </tr>\n",
       "    <tr>\n",
       "      <th>3</th>\n",
       "      <td>2020-07-01</td>\n",
       "      <td>2</td>\n",
       "      <td>36.2</td>\n",
       "      <td>0</td>\n",
       "      <td>0</td>\n",
       "      <td>18</td>\n",
       "      <td>2</td>\n",
       "    </tr>\n",
       "    <tr>\n",
       "      <th>4</th>\n",
       "      <td>2020-07-01</td>\n",
       "      <td>2</td>\n",
       "      <td>36.2</td>\n",
       "      <td>0</td>\n",
       "      <td>0</td>\n",
       "      <td>183</td>\n",
       "      <td>1</td>\n",
       "    </tr>\n",
       "    <tr>\n",
       "      <th>...</th>\n",
       "      <td>...</td>\n",
       "      <td>...</td>\n",
       "      <td>...</td>\n",
       "      <td>...</td>\n",
       "      <td>...</td>\n",
       "      <td>...</td>\n",
       "      <td>...</td>\n",
       "    </tr>\n",
       "    <tr>\n",
       "      <th>1241007</th>\n",
       "      <td>2021-06-30</td>\n",
       "      <td>2</td>\n",
       "      <td>34.0</td>\n",
       "      <td>0</td>\n",
       "      <td>23</td>\n",
       "      <td>134</td>\n",
       "      <td>1</td>\n",
       "    </tr>\n",
       "    <tr>\n",
       "      <th>1241008</th>\n",
       "      <td>2021-06-30</td>\n",
       "      <td>2</td>\n",
       "      <td>34.0</td>\n",
       "      <td>0</td>\n",
       "      <td>22</td>\n",
       "      <td>212</td>\n",
       "      <td>1</td>\n",
       "    </tr>\n",
       "    <tr>\n",
       "      <th>1241009</th>\n",
       "      <td>2021-06-30</td>\n",
       "      <td>2</td>\n",
       "      <td>34.0</td>\n",
       "      <td>0</td>\n",
       "      <td>23</td>\n",
       "      <td>149</td>\n",
       "      <td>1</td>\n",
       "    </tr>\n",
       "    <tr>\n",
       "      <th>1241010</th>\n",
       "      <td>2021-06-30</td>\n",
       "      <td>2</td>\n",
       "      <td>34.0</td>\n",
       "      <td>0</td>\n",
       "      <td>22</td>\n",
       "      <td>199</td>\n",
       "      <td>1</td>\n",
       "    </tr>\n",
       "    <tr>\n",
       "      <th>1241011</th>\n",
       "      <td>2021-06-27</td>\n",
       "      <td>6</td>\n",
       "      <td>31.0</td>\n",
       "      <td>0</td>\n",
       "      <td>19</td>\n",
       "      <td>234</td>\n",
       "      <td>1</td>\n",
       "    </tr>\n",
       "  </tbody>\n",
       "</table>\n",
       "<p>1241012 rows × 7 columns</p>\n",
       "</div>"
      ],
      "text/plain": [
       "               date weekday  high_temp  rain hour  idunplug_station  \\\n",
       "0        2020-07-01       2       36.2     0    0               169   \n",
       "1        2020-07-01       2       36.2     0    0                92   \n",
       "2        2020-07-01       2       36.2     0    0                49   \n",
       "3        2020-07-01       2       36.2     0    0                18   \n",
       "4        2020-07-01       2       36.2     0    0               183   \n",
       "...             ...     ...        ...   ...  ...               ...   \n",
       "1241007  2021-06-30       2       34.0     0   23               134   \n",
       "1241008  2021-06-30       2       34.0     0   22               212   \n",
       "1241009  2021-06-30       2       34.0     0   23               149   \n",
       "1241010  2021-06-30       2       34.0     0   22               199   \n",
       "1241011  2021-06-27       6       31.0     0   19               234   \n",
       "\n",
       "         station_users  \n",
       "0                    2  \n",
       "1                    1  \n",
       "2                    2  \n",
       "3                    2  \n",
       "4                    1  \n",
       "...                ...  \n",
       "1241007              1  \n",
       "1241008              1  \n",
       "1241009              1  \n",
       "1241010              1  \n",
       "1241011              1  \n",
       "\n",
       "[1241012 rows x 7 columns]"
      ]
     },
     "execution_count": 108,
     "metadata": {},
     "output_type": "execute_result"
    }
   ],
   "source": [
    "station_data"
   ]
  },
  {
   "cell_type": "code",
   "execution_count": 114,
   "id": "eb310572",
   "metadata": {},
   "outputs": [],
   "source": [
    "station_daily_data= station_data.drop(['hour'], axis=1)\n",
    "station_daily_data['station_daily_users'] = station_daily_data.groupby(['date']).station_users.transform('sum')\n",
    "station_daily_data = station_daily_data[['date', 'weekday', 'high_temp', 'rain', 'idunplug_station', 'station_daily_users']]\n",
    "station_daily_data = station_daily_data.drop_duplicates()\n",
    "station_daily_data = station_daily_data.reset_index(drop=True)"
   ]
  },
  {
   "cell_type": "code",
   "execution_count": 115,
   "id": "b61232ef",
   "metadata": {},
   "outputs": [
    {
     "data": {
      "text/html": [
       "<div>\n",
       "<style scoped>\n",
       "    .dataframe tbody tr th:only-of-type {\n",
       "        vertical-align: middle;\n",
       "    }\n",
       "\n",
       "    .dataframe tbody tr th {\n",
       "        vertical-align: top;\n",
       "    }\n",
       "\n",
       "    .dataframe thead th {\n",
       "        text-align: right;\n",
       "    }\n",
       "</style>\n",
       "<table border=\"1\" class=\"dataframe\">\n",
       "  <thead>\n",
       "    <tr style=\"text-align: right;\">\n",
       "      <th></th>\n",
       "      <th>date</th>\n",
       "      <th>weekday</th>\n",
       "      <th>high_temp</th>\n",
       "      <th>rain</th>\n",
       "      <th>idunplug_station</th>\n",
       "      <th>station_daily_users</th>\n",
       "    </tr>\n",
       "  </thead>\n",
       "  <tbody>\n",
       "    <tr>\n",
       "      <th>0</th>\n",
       "      <td>2020-07-01</td>\n",
       "      <td>2</td>\n",
       "      <td>36.2</td>\n",
       "      <td>0</td>\n",
       "      <td>169</td>\n",
       "      <td>16891</td>\n",
       "    </tr>\n",
       "    <tr>\n",
       "      <th>1</th>\n",
       "      <td>2020-07-01</td>\n",
       "      <td>2</td>\n",
       "      <td>36.2</td>\n",
       "      <td>0</td>\n",
       "      <td>92</td>\n",
       "      <td>16891</td>\n",
       "    </tr>\n",
       "    <tr>\n",
       "      <th>2</th>\n",
       "      <td>2020-07-01</td>\n",
       "      <td>2</td>\n",
       "      <td>36.2</td>\n",
       "      <td>0</td>\n",
       "      <td>49</td>\n",
       "      <td>16891</td>\n",
       "    </tr>\n",
       "    <tr>\n",
       "      <th>3</th>\n",
       "      <td>2020-07-01</td>\n",
       "      <td>2</td>\n",
       "      <td>36.2</td>\n",
       "      <td>0</td>\n",
       "      <td>18</td>\n",
       "      <td>16891</td>\n",
       "    </tr>\n",
       "    <tr>\n",
       "      <th>4</th>\n",
       "      <td>2020-07-01</td>\n",
       "      <td>2</td>\n",
       "      <td>36.2</td>\n",
       "      <td>0</td>\n",
       "      <td>183</td>\n",
       "      <td>16891</td>\n",
       "    </tr>\n",
       "    <tr>\n",
       "      <th>...</th>\n",
       "      <td>...</td>\n",
       "      <td>...</td>\n",
       "      <td>...</td>\n",
       "      <td>...</td>\n",
       "      <td>...</td>\n",
       "      <td>...</td>\n",
       "    </tr>\n",
       "    <tr>\n",
       "      <th>86745</th>\n",
       "      <td>2021-06-30</td>\n",
       "      <td>2</td>\n",
       "      <td>34.0</td>\n",
       "      <td>0</td>\n",
       "      <td>222</td>\n",
       "      <td>14816</td>\n",
       "    </tr>\n",
       "    <tr>\n",
       "      <th>86746</th>\n",
       "      <td>2021-06-30</td>\n",
       "      <td>2</td>\n",
       "      <td>34.0</td>\n",
       "      <td>0</td>\n",
       "      <td>28</td>\n",
       "      <td>14816</td>\n",
       "    </tr>\n",
       "    <tr>\n",
       "      <th>86747</th>\n",
       "      <td>2021-06-30</td>\n",
       "      <td>2</td>\n",
       "      <td>34.0</td>\n",
       "      <td>0</td>\n",
       "      <td>111</td>\n",
       "      <td>14816</td>\n",
       "    </tr>\n",
       "    <tr>\n",
       "      <th>86748</th>\n",
       "      <td>2021-06-30</td>\n",
       "      <td>2</td>\n",
       "      <td>34.0</td>\n",
       "      <td>0</td>\n",
       "      <td>151</td>\n",
       "      <td>14816</td>\n",
       "    </tr>\n",
       "    <tr>\n",
       "      <th>86749</th>\n",
       "      <td>2021-06-30</td>\n",
       "      <td>2</td>\n",
       "      <td>34.0</td>\n",
       "      <td>0</td>\n",
       "      <td>266</td>\n",
       "      <td>14816</td>\n",
       "    </tr>\n",
       "  </tbody>\n",
       "</table>\n",
       "<p>86750 rows × 6 columns</p>\n",
       "</div>"
      ],
      "text/plain": [
       "             date weekday  high_temp  rain  idunplug_station  \\\n",
       "0      2020-07-01       2       36.2     0               169   \n",
       "1      2020-07-01       2       36.2     0                92   \n",
       "2      2020-07-01       2       36.2     0                49   \n",
       "3      2020-07-01       2       36.2     0                18   \n",
       "4      2020-07-01       2       36.2     0               183   \n",
       "...           ...     ...        ...   ...               ...   \n",
       "86745  2021-06-30       2       34.0     0               222   \n",
       "86746  2021-06-30       2       34.0     0                28   \n",
       "86747  2021-06-30       2       34.0     0               111   \n",
       "86748  2021-06-30       2       34.0     0               151   \n",
       "86749  2021-06-30       2       34.0     0               266   \n",
       "\n",
       "       station_daily_users  \n",
       "0                    16891  \n",
       "1                    16891  \n",
       "2                    16891  \n",
       "3                    16891  \n",
       "4                    16891  \n",
       "...                    ...  \n",
       "86745                14816  \n",
       "86746                14816  \n",
       "86747                14816  \n",
       "86748                14816  \n",
       "86749                14816  \n",
       "\n",
       "[86750 rows x 6 columns]"
      ]
     },
     "execution_count": 115,
     "metadata": {},
     "output_type": "execute_result"
    }
   ],
   "source": [
    "station_daily_data"
   ]
  },
  {
   "cell_type": "code",
   "execution_count": 117,
   "id": "c939de47",
   "metadata": {},
   "outputs": [],
   "source": [
    "hourly_data= station_data.drop(['idunplug_station'], axis=1)\n",
    "hourly_data['total_hourly_users'] = hourly_data.groupby(['date','hour']).station_users.transform('sum')\n",
    "hourly_data = hourly_data[['date', 'weekday', 'high_temp', 'rain', 'hour', 'total_hourly_users']]\n",
    "hourly_data = hourly_data.drop_duplicates()\n",
    "hourly_data = hourly_data.reset_index(drop=True)"
   ]
  },
  {
   "cell_type": "code",
   "execution_count": 118,
   "id": "e079dce2",
   "metadata": {},
   "outputs": [
    {
     "data": {
      "text/html": [
       "<div>\n",
       "<style scoped>\n",
       "    .dataframe tbody tr th:only-of-type {\n",
       "        vertical-align: middle;\n",
       "    }\n",
       "\n",
       "    .dataframe tbody tr th {\n",
       "        vertical-align: top;\n",
       "    }\n",
       "\n",
       "    .dataframe thead th {\n",
       "        text-align: right;\n",
       "    }\n",
       "</style>\n",
       "<table border=\"1\" class=\"dataframe\">\n",
       "  <thead>\n",
       "    <tr style=\"text-align: right;\">\n",
       "      <th></th>\n",
       "      <th>date</th>\n",
       "      <th>weekday</th>\n",
       "      <th>high_temp</th>\n",
       "      <th>rain</th>\n",
       "      <th>hour</th>\n",
       "      <th>total_hourly_users</th>\n",
       "    </tr>\n",
       "  </thead>\n",
       "  <tbody>\n",
       "    <tr>\n",
       "      <th>0</th>\n",
       "      <td>2020-07-01</td>\n",
       "      <td>2</td>\n",
       "      <td>36.2</td>\n",
       "      <td>0</td>\n",
       "      <td>0</td>\n",
       "      <td>169</td>\n",
       "    </tr>\n",
       "    <tr>\n",
       "      <th>1</th>\n",
       "      <td>2020-07-01</td>\n",
       "      <td>2</td>\n",
       "      <td>36.2</td>\n",
       "      <td>0</td>\n",
       "      <td>1</td>\n",
       "      <td>81</td>\n",
       "    </tr>\n",
       "    <tr>\n",
       "      <th>2</th>\n",
       "      <td>2020-07-01</td>\n",
       "      <td>2</td>\n",
       "      <td>36.2</td>\n",
       "      <td>0</td>\n",
       "      <td>2</td>\n",
       "      <td>40</td>\n",
       "    </tr>\n",
       "    <tr>\n",
       "      <th>3</th>\n",
       "      <td>2020-07-01</td>\n",
       "      <td>2</td>\n",
       "      <td>36.2</td>\n",
       "      <td>0</td>\n",
       "      <td>3</td>\n",
       "      <td>45</td>\n",
       "    </tr>\n",
       "    <tr>\n",
       "      <th>4</th>\n",
       "      <td>2020-07-01</td>\n",
       "      <td>2</td>\n",
       "      <td>36.2</td>\n",
       "      <td>0</td>\n",
       "      <td>4</td>\n",
       "      <td>144</td>\n",
       "    </tr>\n",
       "    <tr>\n",
       "      <th>...</th>\n",
       "      <td>...</td>\n",
       "      <td>...</td>\n",
       "      <td>...</td>\n",
       "      <td>...</td>\n",
       "      <td>...</td>\n",
       "      <td>...</td>\n",
       "    </tr>\n",
       "    <tr>\n",
       "      <th>8725</th>\n",
       "      <td>2021-06-30</td>\n",
       "      <td>2</td>\n",
       "      <td>34.0</td>\n",
       "      <td>0</td>\n",
       "      <td>19</td>\n",
       "      <td>816</td>\n",
       "    </tr>\n",
       "    <tr>\n",
       "      <th>8726</th>\n",
       "      <td>2021-06-30</td>\n",
       "      <td>2</td>\n",
       "      <td>34.0</td>\n",
       "      <td>0</td>\n",
       "      <td>20</td>\n",
       "      <td>555</td>\n",
       "    </tr>\n",
       "    <tr>\n",
       "      <th>8727</th>\n",
       "      <td>2021-06-30</td>\n",
       "      <td>2</td>\n",
       "      <td>34.0</td>\n",
       "      <td>0</td>\n",
       "      <td>21</td>\n",
       "      <td>584</td>\n",
       "    </tr>\n",
       "    <tr>\n",
       "      <th>8728</th>\n",
       "      <td>2021-06-30</td>\n",
       "      <td>2</td>\n",
       "      <td>34.0</td>\n",
       "      <td>0</td>\n",
       "      <td>22</td>\n",
       "      <td>511</td>\n",
       "    </tr>\n",
       "    <tr>\n",
       "      <th>8729</th>\n",
       "      <td>2021-06-30</td>\n",
       "      <td>2</td>\n",
       "      <td>34.0</td>\n",
       "      <td>0</td>\n",
       "      <td>23</td>\n",
       "      <td>270</td>\n",
       "    </tr>\n",
       "  </tbody>\n",
       "</table>\n",
       "<p>8730 rows × 6 columns</p>\n",
       "</div>"
      ],
      "text/plain": [
       "            date weekday  high_temp  rain hour  total_hourly_users\n",
       "0     2020-07-01       2       36.2     0    0                 169\n",
       "1     2020-07-01       2       36.2     0    1                  81\n",
       "2     2020-07-01       2       36.2     0    2                  40\n",
       "3     2020-07-01       2       36.2     0    3                  45\n",
       "4     2020-07-01       2       36.2     0    4                 144\n",
       "...          ...     ...        ...   ...  ...                 ...\n",
       "8725  2021-06-30       2       34.0     0   19                 816\n",
       "8726  2021-06-30       2       34.0     0   20                 555\n",
       "8727  2021-06-30       2       34.0     0   21                 584\n",
       "8728  2021-06-30       2       34.0     0   22                 511\n",
       "8729  2021-06-30       2       34.0     0   23                 270\n",
       "\n",
       "[8730 rows x 6 columns]"
      ]
     },
     "execution_count": 118,
     "metadata": {},
     "output_type": "execute_result"
    }
   ],
   "source": [
    "hourly_data"
   ]
  },
  {
   "cell_type": "code",
   "execution_count": 139,
   "id": "89a61488",
   "metadata": {},
   "outputs": [],
   "source": [
    "daily_data= hourly_data.drop(['hour'], axis=1)\n",
    "daily_data['total_daily_users'] = hourly_data.groupby(['date']).total_hourly_users.transform('sum')\n",
    "daily_data = daily_data[['date', 'weekday', 'high_temp', 'rain', 'total_daily_users']]\n",
    "daily_data = daily_data.drop_duplicates()\n",
    "daily_data = daily_data.reset_index(drop=True)"
   ]
  },
  {
   "cell_type": "code",
   "execution_count": 121,
   "id": "3423540b",
   "metadata": {},
   "outputs": [
    {
     "data": {
      "text/html": [
       "<div>\n",
       "<style scoped>\n",
       "    .dataframe tbody tr th:only-of-type {\n",
       "        vertical-align: middle;\n",
       "    }\n",
       "\n",
       "    .dataframe tbody tr th {\n",
       "        vertical-align: top;\n",
       "    }\n",
       "\n",
       "    .dataframe thead th {\n",
       "        text-align: right;\n",
       "    }\n",
       "</style>\n",
       "<table border=\"1\" class=\"dataframe\">\n",
       "  <thead>\n",
       "    <tr style=\"text-align: right;\">\n",
       "      <th></th>\n",
       "      <th>date</th>\n",
       "      <th>weekday</th>\n",
       "      <th>high_temp</th>\n",
       "      <th>rain</th>\n",
       "      <th>total_daily_users</th>\n",
       "    </tr>\n",
       "  </thead>\n",
       "  <tbody>\n",
       "    <tr>\n",
       "      <th>0</th>\n",
       "      <td>2020-07-01</td>\n",
       "      <td>2</td>\n",
       "      <td>36.2</td>\n",
       "      <td>0</td>\n",
       "      <td>16891</td>\n",
       "    </tr>\n",
       "    <tr>\n",
       "      <th>1</th>\n",
       "      <td>2020-07-02</td>\n",
       "      <td>3</td>\n",
       "      <td>34.0</td>\n",
       "      <td>0</td>\n",
       "      <td>16999</td>\n",
       "    </tr>\n",
       "    <tr>\n",
       "      <th>2</th>\n",
       "      <td>2020-07-03</td>\n",
       "      <td>4</td>\n",
       "      <td>32.8</td>\n",
       "      <td>0</td>\n",
       "      <td>15723</td>\n",
       "    </tr>\n",
       "    <tr>\n",
       "      <th>3</th>\n",
       "      <td>2020-07-04</td>\n",
       "      <td>5</td>\n",
       "      <td>35.5</td>\n",
       "      <td>0</td>\n",
       "      <td>12062</td>\n",
       "    </tr>\n",
       "    <tr>\n",
       "      <th>4</th>\n",
       "      <td>2020-07-05</td>\n",
       "      <td>6</td>\n",
       "      <td>37.5</td>\n",
       "      <td>0</td>\n",
       "      <td>10236</td>\n",
       "    </tr>\n",
       "    <tr>\n",
       "      <th>...</th>\n",
       "      <td>...</td>\n",
       "      <td>...</td>\n",
       "      <td>...</td>\n",
       "      <td>...</td>\n",
       "      <td>...</td>\n",
       "    </tr>\n",
       "    <tr>\n",
       "      <th>360</th>\n",
       "      <td>2021-06-26</td>\n",
       "      <td>5</td>\n",
       "      <td>35.0</td>\n",
       "      <td>0</td>\n",
       "      <td>10888</td>\n",
       "    </tr>\n",
       "    <tr>\n",
       "      <th>361</th>\n",
       "      <td>2021-06-27</td>\n",
       "      <td>6</td>\n",
       "      <td>31.0</td>\n",
       "      <td>0</td>\n",
       "      <td>8877</td>\n",
       "    </tr>\n",
       "    <tr>\n",
       "      <th>362</th>\n",
       "      <td>2021-06-28</td>\n",
       "      <td>0</td>\n",
       "      <td>29.0</td>\n",
       "      <td>0</td>\n",
       "      <td>13123</td>\n",
       "    </tr>\n",
       "    <tr>\n",
       "      <th>363</th>\n",
       "      <td>2021-06-29</td>\n",
       "      <td>1</td>\n",
       "      <td>31.0</td>\n",
       "      <td>0</td>\n",
       "      <td>14184</td>\n",
       "    </tr>\n",
       "    <tr>\n",
       "      <th>364</th>\n",
       "      <td>2021-06-30</td>\n",
       "      <td>2</td>\n",
       "      <td>34.0</td>\n",
       "      <td>0</td>\n",
       "      <td>14816</td>\n",
       "    </tr>\n",
       "  </tbody>\n",
       "</table>\n",
       "<p>365 rows × 5 columns</p>\n",
       "</div>"
      ],
      "text/plain": [
       "           date weekday  high_temp  rain  total_daily_users\n",
       "0    2020-07-01       2       36.2     0              16891\n",
       "1    2020-07-02       3       34.0     0              16999\n",
       "2    2020-07-03       4       32.8     0              15723\n",
       "3    2020-07-04       5       35.5     0              12062\n",
       "4    2020-07-05       6       37.5     0              10236\n",
       "..          ...     ...        ...   ...                ...\n",
       "360  2021-06-26       5       35.0     0              10888\n",
       "361  2021-06-27       6       31.0     0               8877\n",
       "362  2021-06-28       0       29.0     0              13123\n",
       "363  2021-06-29       1       31.0     0              14184\n",
       "364  2021-06-30       2       34.0     0              14816\n",
       "\n",
       "[365 rows x 5 columns]"
      ]
     },
     "execution_count": 121,
     "metadata": {},
     "output_type": "execute_result"
    }
   ],
   "source": [
    "daily_data"
   ]
  },
  {
   "cell_type": "code",
   "execution_count": 122,
   "id": "4cb6da91",
   "metadata": {},
   "outputs": [
    {
     "data": {
      "text/plain": [
       "<AxesSubplot:xlabel='weekday', ylabel='total_daily_users'>"
      ]
     },
     "execution_count": 122,
     "metadata": {},
     "output_type": "execute_result"
    },
    {
     "data": {
      "image/png": "[encoded data removed]",
      "text/plain": [
       "<Figure size 432x288 with 1 Axes>"
      ]
     },
     "metadata": {
      "needs_background": "light"
     },
     "output_type": "display_data"
    }
   ],
   "source": [
    "#weekday vs users\n",
    "sns.stripplot(x=\"weekday\", y=\"total_daily_users\", data=daily_data)"
   ]
  },
  {
   "cell_type": "code",
   "execution_count": 123,
   "id": "aadd11b4",
   "metadata": {},
   "outputs": [
    {
     "data": {
      "text/plain": [
       "<AxesSubplot:xlabel='hour', ylabel='total_hourly_users'>"
      ]
     },
     "execution_count": 123,
     "metadata": {},
     "output_type": "execute_result"
    },
    {
     "data": {
      "image/png": "[encoded data removed]",
      "text/plain": [
       "<Figure size 432x288 with 1 Axes>"
      ]
     },
     "metadata": {
      "needs_background": "light"
     },
     "output_type": "display_data"
    }
   ],
   "source": [
    "#hour vs users\n",
    "sns.stripplot(x=\"hour\", y=\"total_hourly_users\", data=hourly_data)"
   ]
  },
  {
   "cell_type": "code",
   "execution_count": 124,
   "id": "66f35583",
   "metadata": {},
   "outputs": [
    {
     "data": {
      "text/plain": [
       "<AxesSubplot:xlabel='rain', ylabel='total_daily_users'>"
      ]
     },
     "execution_count": 124,
     "metadata": {},
     "output_type": "execute_result"
    },
    {
     "data": {
      "image/png": "[encoded data removed]",
      "text/plain": [
       "<Figure size 432x288 with 1 Axes>"
      ]
     },
     "metadata": {
      "needs_background": "light"
     },
     "output_type": "display_data"
    }
   ],
   "source": [
    "#rain vs users\n",
    "sns.stripplot(x=\"rain\", y=\"total_daily_users\", data=daily_data)"
   ]
  },
  {
   "cell_type": "code",
   "execution_count": 125,
   "id": "8dd17d96",
   "metadata": {},
   "outputs": [
    {
     "data": {
      "text/plain": [
       "<AxesSubplot:xlabel='high_temp', ylabel='total_daily_users'>"
      ]
     },
     "execution_count": 125,
     "metadata": {},
     "output_type": "execute_result"
    },
    {
     "data": {
      "image/png": "[encoded data removed]",
      "text/plain": [
       "<Figure size 432x288 with 1 Axes>"
      ]
     },
     "metadata": {
      "needs_background": "light"
     },
     "output_type": "display_data"
    }
   ],
   "source": [
    "#high temp vs users\n",
    "sns.scatterplot(data=daily_data, x=\"high_temp\", y=\"total_daily_users\") "
   ]
  },
  {
   "cell_type": "code",
   "execution_count": 126,
   "id": "ba266231",
   "metadata": {},
   "outputs": [
    {
     "data": {
      "text/plain": [
       "<seaborn.axisgrid.FacetGrid at 0x1ccc08e80>"
      ]
     },
     "execution_count": 126,
     "metadata": {},
     "output_type": "execute_result"
    },
    {
     "data": {
      "image/png": "[encoded data removed]",
      "text/plain": [
       "<Figure size 360x360 with 1 Axes>"
      ]
     },
     "metadata": {
      "needs_background": "light"
     },
     "output_type": "display_data"
    }
   ],
   "source": [
    "sns.displot(daily_data['high_temp'])"
   ]
  },
  {
   "cell_type": "markdown",
   "id": "2c0e28d9",
   "metadata": {},
   "source": [
    "# making the models"
   ]
  },
  {
   "cell_type": "markdown",
   "id": "79bb0160",
   "metadata": {},
   "source": [
    "## predicting users per day"
   ]
  },
  {
   "cell_type": "code",
   "execution_count": 145,
   "id": "e2e97d4a",
   "metadata": {},
   "outputs": [],
   "source": [
    "#X-y split\n",
    "y = daily_data.total_daily_users\n",
    "X = daily_data.drop(['total_daily_users', 'date'], axis=1)"
   ]
  },
  {
   "cell_type": "code",
   "execution_count": 146,
   "id": "1aa3108f",
   "metadata": {},
   "outputs": [],
   "source": [
    "#encode weekday\n",
    "from sklearn.preprocessing import OneHotEncoder\n",
    "\n",
    "day = pd.DataFrame(X['weekday'])\n",
    "day_encoder = OneHotEncoder().fit(day)\n",
    "encoded_day = pd.DataFrame(day_encoder.transform(day).toarray(),columns=day_encoder.categories_)\n",
    "\n",
    "encoded_day = encoded_day.drop([0], axis=1)\n",
    "\n",
    "X.drop(['weekday'], axis=1, inplace=True)\n",
    "X = pd.concat([X, encoded_day], axis=1)"
   ]
  },
  {
   "cell_type": "code",
   "execution_count": 147,
   "id": "ae719f64",
   "metadata": {},
   "outputs": [
    {
     "data": {
      "text/html": [
       "<div>\n",
       "<style scoped>\n",
       "    .dataframe tbody tr th:only-of-type {\n",
       "        vertical-align: middle;\n",
       "    }\n",
       "\n",
       "    .dataframe tbody tr th {\n",
       "        vertical-align: top;\n",
       "    }\n",
       "\n",
       "    .dataframe thead th {\n",
       "        text-align: right;\n",
       "    }\n",
       "</style>\n",
       "<table border=\"1\" class=\"dataframe\">\n",
       "  <thead>\n",
       "    <tr style=\"text-align: right;\">\n",
       "      <th></th>\n",
       "      <th>high_temp</th>\n",
       "      <th>rain</th>\n",
       "      <th>(1,)</th>\n",
       "      <th>(2,)</th>\n",
       "      <th>(3,)</th>\n",
       "      <th>(4,)</th>\n",
       "      <th>(5,)</th>\n",
       "      <th>(6,)</th>\n",
       "    </tr>\n",
       "  </thead>\n",
       "  <tbody>\n",
       "    <tr>\n",
       "      <th>0</th>\n",
       "      <td>36.2</td>\n",
       "      <td>0</td>\n",
       "      <td>0.0</td>\n",
       "      <td>1.0</td>\n",
       "      <td>0.0</td>\n",
       "      <td>0.0</td>\n",
       "      <td>0.0</td>\n",
       "      <td>0.0</td>\n",
       "    </tr>\n",
       "    <tr>\n",
       "      <th>1</th>\n",
       "      <td>34.0</td>\n",
       "      <td>0</td>\n",
       "      <td>0.0</td>\n",
       "      <td>0.0</td>\n",
       "      <td>1.0</td>\n",
       "      <td>0.0</td>\n",
       "      <td>0.0</td>\n",
       "      <td>0.0</td>\n",
       "    </tr>\n",
       "    <tr>\n",
       "      <th>2</th>\n",
       "      <td>32.8</td>\n",
       "      <td>0</td>\n",
       "      <td>0.0</td>\n",
       "      <td>0.0</td>\n",
       "      <td>0.0</td>\n",
       "      <td>1.0</td>\n",
       "      <td>0.0</td>\n",
       "      <td>0.0</td>\n",
       "    </tr>\n",
       "    <tr>\n",
       "      <th>3</th>\n",
       "      <td>35.5</td>\n",
       "      <td>0</td>\n",
       "      <td>0.0</td>\n",
       "      <td>0.0</td>\n",
       "      <td>0.0</td>\n",
       "      <td>0.0</td>\n",
       "      <td>1.0</td>\n",
       "      <td>0.0</td>\n",
       "    </tr>\n",
       "    <tr>\n",
       "      <th>4</th>\n",
       "      <td>37.5</td>\n",
       "      <td>0</td>\n",
       "      <td>0.0</td>\n",
       "      <td>0.0</td>\n",
       "      <td>0.0</td>\n",
       "      <td>0.0</td>\n",
       "      <td>0.0</td>\n",
       "      <td>1.0</td>\n",
       "    </tr>\n",
       "    <tr>\n",
       "      <th>...</th>\n",
       "      <td>...</td>\n",
       "      <td>...</td>\n",
       "      <td>...</td>\n",
       "      <td>...</td>\n",
       "      <td>...</td>\n",
       "      <td>...</td>\n",
       "      <td>...</td>\n",
       "      <td>...</td>\n",
       "    </tr>\n",
       "    <tr>\n",
       "      <th>360</th>\n",
       "      <td>35.0</td>\n",
       "      <td>0</td>\n",
       "      <td>0.0</td>\n",
       "      <td>0.0</td>\n",
       "      <td>0.0</td>\n",
       "      <td>0.0</td>\n",
       "      <td>1.0</td>\n",
       "      <td>0.0</td>\n",
       "    </tr>\n",
       "    <tr>\n",
       "      <th>361</th>\n",
       "      <td>31.0</td>\n",
       "      <td>0</td>\n",
       "      <td>0.0</td>\n",
       "      <td>0.0</td>\n",
       "      <td>0.0</td>\n",
       "      <td>0.0</td>\n",
       "      <td>0.0</td>\n",
       "      <td>1.0</td>\n",
       "    </tr>\n",
       "    <tr>\n",
       "      <th>362</th>\n",
       "      <td>29.0</td>\n",
       "      <td>0</td>\n",
       "      <td>0.0</td>\n",
       "      <td>0.0</td>\n",
       "      <td>0.0</td>\n",
       "      <td>0.0</td>\n",
       "      <td>0.0</td>\n",
       "      <td>0.0</td>\n",
       "    </tr>\n",
       "    <tr>\n",
       "      <th>363</th>\n",
       "      <td>31.0</td>\n",
       "      <td>0</td>\n",
       "      <td>1.0</td>\n",
       "      <td>0.0</td>\n",
       "      <td>0.0</td>\n",
       "      <td>0.0</td>\n",
       "      <td>0.0</td>\n",
       "      <td>0.0</td>\n",
       "    </tr>\n",
       "    <tr>\n",
       "      <th>364</th>\n",
       "      <td>34.0</td>\n",
       "      <td>0</td>\n",
       "      <td>0.0</td>\n",
       "      <td>1.0</td>\n",
       "      <td>0.0</td>\n",
       "      <td>0.0</td>\n",
       "      <td>0.0</td>\n",
       "      <td>0.0</td>\n",
       "    </tr>\n",
       "  </tbody>\n",
       "</table>\n",
       "<p>365 rows × 8 columns</p>\n",
       "</div>"
      ],
      "text/plain": [
       "     high_temp  rain  (1,)  (2,)  (3,)  (4,)  (5,)  (6,)\n",
       "0         36.2     0   0.0   1.0   0.0   0.0   0.0   0.0\n",
       "1         34.0     0   0.0   0.0   1.0   0.0   0.0   0.0\n",
       "2         32.8     0   0.0   0.0   0.0   1.0   0.0   0.0\n",
       "3         35.5     0   0.0   0.0   0.0   0.0   1.0   0.0\n",
       "4         37.5     0   0.0   0.0   0.0   0.0   0.0   1.0\n",
       "..         ...   ...   ...   ...   ...   ...   ...   ...\n",
       "360       35.0     0   0.0   0.0   0.0   0.0   1.0   0.0\n",
       "361       31.0     0   0.0   0.0   0.0   0.0   0.0   1.0\n",
       "362       29.0     0   0.0   0.0   0.0   0.0   0.0   0.0\n",
       "363       31.0     0   1.0   0.0   0.0   0.0   0.0   0.0\n",
       "364       34.0     0   0.0   1.0   0.0   0.0   0.0   0.0\n",
       "\n",
       "[365 rows x 8 columns]"
      ]
     },
     "execution_count": 147,
     "metadata": {},
     "output_type": "execute_result"
    }
   ],
   "source": [
    "X"
   ]
  },
  {
   "cell_type": "code",
   "execution_count": 148,
   "id": "9057ed39",
   "metadata": {},
   "outputs": [],
   "source": [
    "#train-test split\n",
    "from sklearn.model_selection import train_test_split\n",
    "X_train, X_test, y_train, y_test = train_test_split(X, y, test_size=0.2, random_state=18)"
   ]
  },
  {
   "cell_type": "code",
   "execution_count": 149,
   "id": "5ae58501",
   "metadata": {},
   "outputs": [
    {
     "name": "stdout",
     "output_type": "stream",
     "text": [
      "0.536232922883231\n"
     ]
    }
   ],
   "source": [
    "#build linear regression model\n",
    "from sklearn import linear_model\n",
    "lm = linear_model.LinearRegression()\n",
    "model = lm.fit(X_train, y_train)\n",
    "\n",
    "print(model.score(X_train,y_train))\n",
    "#score .53"
   ]
  },
  {
   "cell_type": "code",
   "execution_count": 152,
   "id": "2100651b",
   "metadata": {},
   "outputs": [
    {
     "name": "stdout",
     "output_type": "stream",
     "text": [
      "0.44711958061120205\n",
      "7788830.672797523\n",
      "2790.84766205494\n"
     ]
    }
   ],
   "source": [
    "#test the model\n",
    "from sklearn.metrics import r2_score, mean_squared_error\n",
    "\n",
    "predictions = lm.predict(X_test)\n",
    "r2 = r2_score(y_test, predictions) # score .45\n",
    "print(r2)\n",
    "\n",
    "mse = mean_squared_error(y_test, predictions)\n",
    "print(mse)  #7788830\n",
    "\n",
    "rmse = math.sqrt(mse)\n",
    "print(rmse)   #2790"
   ]
  },
  {
   "cell_type": "code",
   "execution_count": 154,
   "id": "d6c5d9c0",
   "metadata": {},
   "outputs": [
    {
     "data": {
      "text/plain": [
       "count      365.000000\n",
       "mean     10820.495890\n",
       "std       3678.319729\n",
       "min         73.000000\n",
       "25%       8789.000000\n",
       "50%      11233.000000\n",
       "75%      13600.000000\n",
       "max      17277.000000\n",
       "Name: total_daily_users, dtype: float64"
      ]
     },
     "execution_count": 154,
     "metadata": {},
     "output_type": "execute_result"
    }
   ],
   "source": [
    "daily_data.total_daily_users.describe()"
   ]
  },
  {
   "cell_type": "code",
   "execution_count": null,
   "id": "c5b55cfe",
   "metadata": {},
   "outputs": [],
   "source": [
    "#trying with scaling to see if model can be improved"
   ]
  },
  {
   "cell_type": "code",
   "execution_count": 155,
   "id": "d2d90505",
   "metadata": {},
   "outputs": [],
   "source": [
    "from sklearn.preprocessing import MinMaxScaler\n",
    "\n",
    "MinMaxtransformer = MinMaxScaler().fit(X_train)\n",
    "X_normalized = pd.DataFrame(MinMaxtransformer.transform(X_train),columns=X_train.columns)"
   ]
  },
  {
   "cell_type": "code",
   "execution_count": 156,
   "id": "b19828c5",
   "metadata": {},
   "outputs": [
    {
     "name": "stdout",
     "output_type": "stream",
     "text": [
      "0.536232922883231\n"
     ]
    }
   ],
   "source": [
    "#build linear regression model\n",
    "lm = linear_model.LinearRegression()\n",
    "model = lm.fit(X_normalized, y_train)\n",
    "\n",
    "print(lm.score(X_normalized,y_train))\n",
    "#score .53 same as without scaling"
   ]
  },
  {
   "cell_type": "code",
   "execution_count": 157,
   "id": "8699df82",
   "metadata": {},
   "outputs": [],
   "source": [
    "#tranform X-test\n",
    "X_test_normalized = pd.DataFrame(MinMaxtransformer.transform(X_test),columns=X_train.columns)"
   ]
  },
  {
   "cell_type": "code",
   "execution_count": 158,
   "id": "c4506853",
   "metadata": {},
   "outputs": [
    {
     "name": "stdout",
     "output_type": "stream",
     "text": [
      "0.44711958061120194\n",
      "7788830.672797524\n",
      "2790.84766205494\n"
     ]
    }
   ],
   "source": [
    "#test the model\n",
    "predictions = lm.predict(X_test_normalized)\n",
    "r2 = r2_score(y_test, predictions) # score .45, same as without scaling\n",
    "print(r2)\n",
    "mse = mean_squared_error(y_test, predictions) \n",
    "print(mse)  #same \n",
    "rmse = math.sqrt(mse)\n",
    "print(rmse)   #same "
   ]
  },
  {
   "cell_type": "markdown",
   "id": "fb587e0a",
   "metadata": {},
   "source": [
    "Scaling the numerical features did not improve the model."
   ]
  },
  {
   "cell_type": "markdown",
   "id": "02dc70c0",
   "metadata": {},
   "source": [
    "## Predicting hourly users"
   ]
  },
  {
   "cell_type": "code",
   "execution_count": 166,
   "id": "189cee22",
   "metadata": {},
   "outputs": [],
   "source": [
    "#X-y split\n",
    "y = hourly_data.total_hourly_users\n",
    "X = hourly_data.drop(['total_hourly_users', 'date'], axis=1)"
   ]
  },
  {
   "cell_type": "code",
   "execution_count": 167,
   "id": "650438e5",
   "metadata": {},
   "outputs": [],
   "source": [
    "#encode the weekdays and hours\n",
    "\n",
    "day = pd.DataFrame(X['weekday'])\n",
    "encoded_day = pd.DataFrame(day_encoder.transform(day).toarray(),columns=day_encoder.categories_)\n",
    "encoded_day = encoded_day.drop([0], axis=1)\n",
    "\n",
    "hour = pd.DataFrame(X['hour'])\n",
    "hour_encoder = OneHotEncoder().fit(hour)\n",
    "encoded_hour = pd.DataFrame(hour_encoder.transform(hour).toarray(),columns=hour_encoder.categories_)\n",
    "encoded_hour = encoded_hour.drop([0], axis=1)\n",
    "\n",
    "X.drop(['weekday', 'hour'], axis=1, inplace=True)\n",
    "X = pd.concat([X, encoded_day, encoded_hour], axis=1)"
   ]
  },
  {
   "cell_type": "code",
   "execution_count": 168,
   "id": "da633cd4",
   "metadata": {},
   "outputs": [
    {
     "data": {
      "text/html": [
       "<div>\n",
       "<style scoped>\n",
       "    .dataframe tbody tr th:only-of-type {\n",
       "        vertical-align: middle;\n",
       "    }\n",
       "\n",
       "    .dataframe tbody tr th {\n",
       "        vertical-align: top;\n",
       "    }\n",
       "\n",
       "    .dataframe thead th {\n",
       "        text-align: right;\n",
       "    }\n",
       "</style>\n",
       "<table border=\"1\" class=\"dataframe\">\n",
       "  <thead>\n",
       "    <tr style=\"text-align: right;\">\n",
       "      <th></th>\n",
       "      <th>high_temp</th>\n",
       "      <th>rain</th>\n",
       "      <th>(1,)</th>\n",
       "      <th>(2,)</th>\n",
       "      <th>(3,)</th>\n",
       "      <th>(4,)</th>\n",
       "      <th>(5,)</th>\n",
       "      <th>(6,)</th>\n",
       "      <th>(1,)</th>\n",
       "      <th>(2,)</th>\n",
       "      <th>...</th>\n",
       "      <th>(14,)</th>\n",
       "      <th>(15,)</th>\n",
       "      <th>(16,)</th>\n",
       "      <th>(17,)</th>\n",
       "      <th>(18,)</th>\n",
       "      <th>(19,)</th>\n",
       "      <th>(20,)</th>\n",
       "      <th>(21,)</th>\n",
       "      <th>(22,)</th>\n",
       "      <th>(23,)</th>\n",
       "    </tr>\n",
       "  </thead>\n",
       "  <tbody>\n",
       "    <tr>\n",
       "      <th>0</th>\n",
       "      <td>36.2</td>\n",
       "      <td>0</td>\n",
       "      <td>0.0</td>\n",
       "      <td>1.0</td>\n",
       "      <td>0.0</td>\n",
       "      <td>0.0</td>\n",
       "      <td>0.0</td>\n",
       "      <td>0.0</td>\n",
       "      <td>0.0</td>\n",
       "      <td>0.0</td>\n",
       "      <td>...</td>\n",
       "      <td>0.0</td>\n",
       "      <td>0.0</td>\n",
       "      <td>0.0</td>\n",
       "      <td>0.0</td>\n",
       "      <td>0.0</td>\n",
       "      <td>0.0</td>\n",
       "      <td>0.0</td>\n",
       "      <td>0.0</td>\n",
       "      <td>0.0</td>\n",
       "      <td>0.0</td>\n",
       "    </tr>\n",
       "    <tr>\n",
       "      <th>1</th>\n",
       "      <td>36.2</td>\n",
       "      <td>0</td>\n",
       "      <td>0.0</td>\n",
       "      <td>1.0</td>\n",
       "      <td>0.0</td>\n",
       "      <td>0.0</td>\n",
       "      <td>0.0</td>\n",
       "      <td>0.0</td>\n",
       "      <td>1.0</td>\n",
       "      <td>0.0</td>\n",
       "      <td>...</td>\n",
       "      <td>0.0</td>\n",
       "      <td>0.0</td>\n",
       "      <td>0.0</td>\n",
       "      <td>0.0</td>\n",
       "      <td>0.0</td>\n",
       "      <td>0.0</td>\n",
       "      <td>0.0</td>\n",
       "      <td>0.0</td>\n",
       "      <td>0.0</td>\n",
       "      <td>0.0</td>\n",
       "    </tr>\n",
       "    <tr>\n",
       "      <th>2</th>\n",
       "      <td>36.2</td>\n",
       "      <td>0</td>\n",
       "      <td>0.0</td>\n",
       "      <td>1.0</td>\n",
       "      <td>0.0</td>\n",
       "      <td>0.0</td>\n",
       "      <td>0.0</td>\n",
       "      <td>0.0</td>\n",
       "      <td>0.0</td>\n",
       "      <td>1.0</td>\n",
       "      <td>...</td>\n",
       "      <td>0.0</td>\n",
       "      <td>0.0</td>\n",
       "      <td>0.0</td>\n",
       "      <td>0.0</td>\n",
       "      <td>0.0</td>\n",
       "      <td>0.0</td>\n",
       "      <td>0.0</td>\n",
       "      <td>0.0</td>\n",
       "      <td>0.0</td>\n",
       "      <td>0.0</td>\n",
       "    </tr>\n",
       "    <tr>\n",
       "      <th>3</th>\n",
       "      <td>36.2</td>\n",
       "      <td>0</td>\n",
       "      <td>0.0</td>\n",
       "      <td>1.0</td>\n",
       "      <td>0.0</td>\n",
       "      <td>0.0</td>\n",
       "      <td>0.0</td>\n",
       "      <td>0.0</td>\n",
       "      <td>0.0</td>\n",
       "      <td>0.0</td>\n",
       "      <td>...</td>\n",
       "      <td>0.0</td>\n",
       "      <td>0.0</td>\n",
       "      <td>0.0</td>\n",
       "      <td>0.0</td>\n",
       "      <td>0.0</td>\n",
       "      <td>0.0</td>\n",
       "      <td>0.0</td>\n",
       "      <td>0.0</td>\n",
       "      <td>0.0</td>\n",
       "      <td>0.0</td>\n",
       "    </tr>\n",
       "    <tr>\n",
       "      <th>4</th>\n",
       "      <td>36.2</td>\n",
       "      <td>0</td>\n",
       "      <td>0.0</td>\n",
       "      <td>1.0</td>\n",
       "      <td>0.0</td>\n",
       "      <td>0.0</td>\n",
       "      <td>0.0</td>\n",
       "      <td>0.0</td>\n",
       "      <td>0.0</td>\n",
       "      <td>0.0</td>\n",
       "      <td>...</td>\n",
       "      <td>0.0</td>\n",
       "      <td>0.0</td>\n",
       "      <td>0.0</td>\n",
       "      <td>0.0</td>\n",
       "      <td>0.0</td>\n",
       "      <td>0.0</td>\n",
       "      <td>0.0</td>\n",
       "      <td>0.0</td>\n",
       "      <td>0.0</td>\n",
       "      <td>0.0</td>\n",
       "    </tr>\n",
       "    <tr>\n",
       "      <th>...</th>\n",
       "      <td>...</td>\n",
       "      <td>...</td>\n",
       "      <td>...</td>\n",
       "      <td>...</td>\n",
       "      <td>...</td>\n",
       "      <td>...</td>\n",
       "      <td>...</td>\n",
       "      <td>...</td>\n",
       "      <td>...</td>\n",
       "      <td>...</td>\n",
       "      <td>...</td>\n",
       "      <td>...</td>\n",
       "      <td>...</td>\n",
       "      <td>...</td>\n",
       "      <td>...</td>\n",
       "      <td>...</td>\n",
       "      <td>...</td>\n",
       "      <td>...</td>\n",
       "      <td>...</td>\n",
       "      <td>...</td>\n",
       "      <td>...</td>\n",
       "    </tr>\n",
       "    <tr>\n",
       "      <th>8725</th>\n",
       "      <td>34.0</td>\n",
       "      <td>0</td>\n",
       "      <td>0.0</td>\n",
       "      <td>1.0</td>\n",
       "      <td>0.0</td>\n",
       "      <td>0.0</td>\n",
       "      <td>0.0</td>\n",
       "      <td>0.0</td>\n",
       "      <td>0.0</td>\n",
       "      <td>0.0</td>\n",
       "      <td>...</td>\n",
       "      <td>0.0</td>\n",
       "      <td>0.0</td>\n",
       "      <td>0.0</td>\n",
       "      <td>0.0</td>\n",
       "      <td>0.0</td>\n",
       "      <td>1.0</td>\n",
       "      <td>0.0</td>\n",
       "      <td>0.0</td>\n",
       "      <td>0.0</td>\n",
       "      <td>0.0</td>\n",
       "    </tr>\n",
       "    <tr>\n",
       "      <th>8726</th>\n",
       "      <td>34.0</td>\n",
       "      <td>0</td>\n",
       "      <td>0.0</td>\n",
       "      <td>1.0</td>\n",
       "      <td>0.0</td>\n",
       "      <td>0.0</td>\n",
       "      <td>0.0</td>\n",
       "      <td>0.0</td>\n",
       "      <td>0.0</td>\n",
       "      <td>0.0</td>\n",
       "      <td>...</td>\n",
       "      <td>0.0</td>\n",
       "      <td>0.0</td>\n",
       "      <td>0.0</td>\n",
       "      <td>0.0</td>\n",
       "      <td>0.0</td>\n",
       "      <td>0.0</td>\n",
       "      <td>1.0</td>\n",
       "      <td>0.0</td>\n",
       "      <td>0.0</td>\n",
       "      <td>0.0</td>\n",
       "    </tr>\n",
       "    <tr>\n",
       "      <th>8727</th>\n",
       "      <td>34.0</td>\n",
       "      <td>0</td>\n",
       "      <td>0.0</td>\n",
       "      <td>1.0</td>\n",
       "      <td>0.0</td>\n",
       "      <td>0.0</td>\n",
       "      <td>0.0</td>\n",
       "      <td>0.0</td>\n",
       "      <td>0.0</td>\n",
       "      <td>0.0</td>\n",
       "      <td>...</td>\n",
       "      <td>0.0</td>\n",
       "      <td>0.0</td>\n",
       "      <td>0.0</td>\n",
       "      <td>0.0</td>\n",
       "      <td>0.0</td>\n",
       "      <td>0.0</td>\n",
       "      <td>0.0</td>\n",
       "      <td>1.0</td>\n",
       "      <td>0.0</td>\n",
       "      <td>0.0</td>\n",
       "    </tr>\n",
       "    <tr>\n",
       "      <th>8728</th>\n",
       "      <td>34.0</td>\n",
       "      <td>0</td>\n",
       "      <td>0.0</td>\n",
       "      <td>1.0</td>\n",
       "      <td>0.0</td>\n",
       "      <td>0.0</td>\n",
       "      <td>0.0</td>\n",
       "      <td>0.0</td>\n",
       "      <td>0.0</td>\n",
       "      <td>0.0</td>\n",
       "      <td>...</td>\n",
       "      <td>0.0</td>\n",
       "      <td>0.0</td>\n",
       "      <td>0.0</td>\n",
       "      <td>0.0</td>\n",
       "      <td>0.0</td>\n",
       "      <td>0.0</td>\n",
       "      <td>0.0</td>\n",
       "      <td>0.0</td>\n",
       "      <td>1.0</td>\n",
       "      <td>0.0</td>\n",
       "    </tr>\n",
       "    <tr>\n",
       "      <th>8729</th>\n",
       "      <td>34.0</td>\n",
       "      <td>0</td>\n",
       "      <td>0.0</td>\n",
       "      <td>1.0</td>\n",
       "      <td>0.0</td>\n",
       "      <td>0.0</td>\n",
       "      <td>0.0</td>\n",
       "      <td>0.0</td>\n",
       "      <td>0.0</td>\n",
       "      <td>0.0</td>\n",
       "      <td>...</td>\n",
       "      <td>0.0</td>\n",
       "      <td>0.0</td>\n",
       "      <td>0.0</td>\n",
       "      <td>0.0</td>\n",
       "      <td>0.0</td>\n",
       "      <td>0.0</td>\n",
       "      <td>0.0</td>\n",
       "      <td>0.0</td>\n",
       "      <td>0.0</td>\n",
       "      <td>1.0</td>\n",
       "    </tr>\n",
       "  </tbody>\n",
       "</table>\n",
       "<p>8730 rows × 31 columns</p>\n",
       "</div>"
      ],
      "text/plain": [
       "      high_temp  rain  (1,)  (2,)  (3,)  (4,)  (5,)  (6,)  (1,)  (2,)  ...  \\\n",
       "0          36.2     0   0.0   1.0   0.0   0.0   0.0   0.0   0.0   0.0  ...   \n",
       "1          36.2     0   0.0   1.0   0.0   0.0   0.0   0.0   1.0   0.0  ...   \n",
       "2          36.2     0   0.0   1.0   0.0   0.0   0.0   0.0   0.0   1.0  ...   \n",
       "3          36.2     0   0.0   1.0   0.0   0.0   0.0   0.0   0.0   0.0  ...   \n",
       "4          36.2     0   0.0   1.0   0.0   0.0   0.0   0.0   0.0   0.0  ...   \n",
       "...         ...   ...   ...   ...   ...   ...   ...   ...   ...   ...  ...   \n",
       "8725       34.0     0   0.0   1.0   0.0   0.0   0.0   0.0   0.0   0.0  ...   \n",
       "8726       34.0     0   0.0   1.0   0.0   0.0   0.0   0.0   0.0   0.0  ...   \n",
       "8727       34.0     0   0.0   1.0   0.0   0.0   0.0   0.0   0.0   0.0  ...   \n",
       "8728       34.0     0   0.0   1.0   0.0   0.0   0.0   0.0   0.0   0.0  ...   \n",
       "8729       34.0     0   0.0   1.0   0.0   0.0   0.0   0.0   0.0   0.0  ...   \n",
       "\n",
       "      (14,)  (15,)  (16,)  (17,)  (18,)  (19,)  (20,)  (21,)  (22,)  (23,)  \n",
       "0       0.0    0.0    0.0    0.0    0.0    0.0    0.0    0.0    0.0    0.0  \n",
       "1       0.0    0.0    0.0    0.0    0.0    0.0    0.0    0.0    0.0    0.0  \n",
       "2       0.0    0.0    0.0    0.0    0.0    0.0    0.0    0.0    0.0    0.0  \n",
       "3       0.0    0.0    0.0    0.0    0.0    0.0    0.0    0.0    0.0    0.0  \n",
       "4       0.0    0.0    0.0    0.0    0.0    0.0    0.0    0.0    0.0    0.0  \n",
       "...     ...    ...    ...    ...    ...    ...    ...    ...    ...    ...  \n",
       "8725    0.0    0.0    0.0    0.0    0.0    1.0    0.0    0.0    0.0    0.0  \n",
       "8726    0.0    0.0    0.0    0.0    0.0    0.0    1.0    0.0    0.0    0.0  \n",
       "8727    0.0    0.0    0.0    0.0    0.0    0.0    0.0    1.0    0.0    0.0  \n",
       "8728    0.0    0.0    0.0    0.0    0.0    0.0    0.0    0.0    1.0    0.0  \n",
       "8729    0.0    0.0    0.0    0.0    0.0    0.0    0.0    0.0    0.0    1.0  \n",
       "\n",
       "[8730 rows x 31 columns]"
      ]
     },
     "execution_count": 168,
     "metadata": {},
     "output_type": "execute_result"
    }
   ],
   "source": [
    "X"
   ]
  },
  {
   "cell_type": "code",
   "execution_count": 169,
   "id": "8ca1dd7b",
   "metadata": {},
   "outputs": [],
   "source": [
    "#train-test split\n",
    "X_train, X_test, y_train, y_test = train_test_split(X, y, test_size=0.2, random_state=18)"
   ]
  },
  {
   "cell_type": "code",
   "execution_count": 170,
   "id": "236256b1",
   "metadata": {},
   "outputs": [
    {
     "name": "stdout",
     "output_type": "stream",
     "text": [
      "0.6961651371789233\n"
     ]
    }
   ],
   "source": [
    "#build linear regression model\n",
    "lm = linear_model.LinearRegression()\n",
    "model = lm.fit(X_train, y_train)\n",
    "\n",
    "print(lm.score(X_train,y_train))\n",
    "#score .696"
   ]
  },
  {
   "cell_type": "code",
   "execution_count": 171,
   "id": "9deb92db",
   "metadata": {},
   "outputs": [
    {
     "name": "stdout",
     "output_type": "stream",
     "text": [
      "0.6843966010191713\n",
      "37368.92653972722\n",
      "193.3104408451008\n"
     ]
    }
   ],
   "source": [
    "#test the model\n",
    "predictions = lm.predict(X_test)\n",
    "r2 = r2_score(y_test, predictions) # score .684\n",
    "print(r2)\n",
    "mse = mean_squared_error(y_test, predictions) \n",
    "print(mse)  #37368 -reduced \n",
    "rmse = math.sqrt(mse)\n",
    "print(rmse)   #193 - reduced"
   ]
  },
  {
   "cell_type": "code",
   "execution_count": 172,
   "id": "b6075679",
   "metadata": {},
   "outputs": [
    {
     "data": {
      "text/plain": [
       "count    8730.000000\n",
       "mean      452.403322\n",
       "std       348.338977\n",
       "min         1.000000\n",
       "25%       100.000000\n",
       "50%       448.500000\n",
       "75%       704.000000\n",
       "max      1679.000000\n",
       "Name: total_hourly_users, dtype: float64"
      ]
     },
     "execution_count": 172,
     "metadata": {},
     "output_type": "execute_result"
    }
   ],
   "source": [
    "y.describe()"
   ]
  },
  {
   "cell_type": "markdown",
   "id": "4f1c8adc",
   "metadata": {},
   "source": [
    "## Predicting hourly users per station"
   ]
  },
  {
   "cell_type": "code",
   "execution_count": 175,
   "id": "bf80e1b8",
   "metadata": {},
   "outputs": [],
   "source": [
    "#X-y split\n",
    "y = station_data.station_users\n",
    "X = station_data.drop(['station_users', 'date'], axis=1)"
   ]
  },
  {
   "cell_type": "code",
   "execution_count": 176,
   "id": "7a0b2e56",
   "metadata": {},
   "outputs": [],
   "source": [
    "#encode the weekday, hour, and station\n",
    "\n",
    "day = pd.DataFrame(X['weekday'])\n",
    "encoded_day = pd.DataFrame(day_encoder.transform(day).toarray(),columns=day_encoder.categories_)\n",
    "encoded_day = encoded_day.drop([0], axis=1)\n",
    "\n",
    "hour = pd.DataFrame(X['hour'])\n",
    "encoded_hour = pd.DataFrame(hour_encoder.transform(hour).toarray(),columns=hour_encoder.categories_)\n",
    "encoded_hour = encoded_hour.drop([2], axis=1)\n",
    "\n",
    "station = pd.DataFrame(X['idunplug_station'])\n",
    "station_encoder = OneHotEncoder().fit(station)\n",
    "encoded_station = pd.DataFrame(station_encoder.transform(station).toarray(),columns=station_encoder.categories_)\n",
    "encoded_station = encoded_station.drop([2], axis=1)\n",
    "\n",
    "\n",
    "\n",
    "X.drop(['weekday', 'idunplug_station', 'hour'], axis=1, inplace=True)\n",
    "X = pd.concat([X, encoded_day, encoded_station, encoded_hour], axis=1)"
   ]
  },
  {
   "cell_type": "code",
   "execution_count": 178,
   "id": "5a43c514",
   "metadata": {},
   "outputs": [],
   "source": [
    "#train-test split\n",
    "X_train, X_test, y_train, y_test = train_test_split(X, y, test_size=0.2, random_state=18)"
   ]
  },
  {
   "cell_type": "code",
   "execution_count": 179,
   "id": "c5aba554",
   "metadata": {},
   "outputs": [
    {
     "name": "stdout",
     "output_type": "stream",
     "text": [
      "0.26537063718985787\n"
     ]
    }
   ],
   "source": [
    "#build linear regression model\n",
    "lm = linear_model.LinearRegression()\n",
    "model = lm.fit(X_train, y_train)\n",
    "\n",
    "print(lm.score(X_train,y_train))\n",
    "#score .26 down from  from .68 using info from all stations"
   ]
  },
  {
   "cell_type": "code",
   "execution_count": 180,
   "id": "d012a516",
   "metadata": {},
   "outputs": [
    {
     "name": "stdout",
     "output_type": "stream",
     "text": [
      "0.2176476844090427\n",
      "4.923179816521154\n",
      "2.2188239715040834\n"
     ]
    }
   ],
   "source": [
    "#test the model\n",
    "predictions = lm.predict(X_test)\n",
    "predictions = predictions. astype(int)\n",
    "r2 = r2_score(y_test, predictions) # score .22 \n",
    "print(r2)\n",
    "mse = mean_squared_error(y_test, predictions) \n",
    "print(mse)  #5\n",
    "rmse = math.sqrt(mse)\n",
    "print(rmse)   #2.2"
   ]
  },
  {
   "cell_type": "code",
   "execution_count": 181,
   "id": "1feaf181",
   "metadata": {},
   "outputs": [
    {
     "data": {
      "text/plain": [
       "count    1.241012e+06\n",
       "mean     3.182468e+00\n",
       "std      2.519880e+00\n",
       "min      1.000000e+00\n",
       "25%      1.000000e+00\n",
       "50%      2.000000e+00\n",
       "75%      4.000000e+00\n",
       "max      3.900000e+01\n",
       "Name: station_users, dtype: float64"
      ]
     },
     "execution_count": 181,
     "metadata": {},
     "output_type": "execute_result"
    }
   ],
   "source": [
    "y.describe()"
   ]
  },
  {
   "cell_type": "markdown",
   "id": "05cb42f5",
   "metadata": {},
   "source": [
    "The models show that weather, day of the week, and time are factors that affect usage of the BiciMAD system but also there are other unidentified factors as well. I think the model could be improved by using hourly weather data. I also think it could be beneficial to further explore the demographics of the users and the stations if that data existed.  "
   ]
  }
 ],
 "metadata": {
  "kernelspec": {
   "display_name": "Python 3 (ipykernel)",
   "language": "python",
   "name": "python3"
  },
  "language_info": {
   "codemirror_mode": {
    "name": "ipython",
    "version": 3
   },
   "file_extension": ".py",
   "mimetype": "text/x-python",
   "name": "python",
   "nbconvert_exporter": "python",
   "pygments_lexer": "ipython3",
   "version": "3.9.6"
  }
 },
 "nbformat": 4,
 "nbformat_minor": 5
}
